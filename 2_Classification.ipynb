{
  "nbformat": 4,
  "nbformat_minor": 0,
  "metadata": {
    "colab": {
      "name": "2. Classification.ipynb",
      "provenance": [],
      "collapsed_sections": [],
      "authorship_tag": "ABX9TyOVXznvy6Kz2J7Y9flToR+O"
    },
    "kernelspec": {
      "display_name": "Python 3",
      "name": "python3"
    }
  },
  "cells": [
    {
      "cell_type": "code",
      "metadata": {
        "id": "FJhKyOKyxEwr"
      },
      "source": [
        "from sklearn.datasets import fetch_openml\n",
        "import matplotlib as mpl\n",
        "import matplotlib.pyplot as plt\n",
        "import numpy as np\n"
      ],
      "execution_count": 1,
      "outputs": []
    },
    {
      "cell_type": "code",
      "metadata": {
        "colab": {
          "base_uri": "https://localhost:8080/"
        },
        "id": "7FE0fbPYzp3o",
        "outputId": "7db950b0-1397-4f92-ed45-5d6a69001ddd"
      },
      "source": [
        "mnist = fetch_openml('mnist_784',version=1)\n",
        "mnist.keys()                  "
      ],
      "execution_count": 2,
      "outputs": [
        {
          "output_type": "execute_result",
          "data": {
            "text/plain": [
              "dict_keys(['data', 'target', 'frame', 'feature_names', 'target_names', 'DESCR', 'details', 'categories', 'url'])"
            ]
          },
          "metadata": {
            "tags": []
          },
          "execution_count": 2
        }
      ]
    },
    {
      "cell_type": "markdown",
      "metadata": {
        "id": "tuUFjPgJ0EE1"
      },
      "source": [
        "Datasets loaded by Scikit-Learn generally have a similar dictionary structure, including the following\n",
        "  1. data : key containing an array with one row per instance and one column per feature\n",
        "  2. DESCR : key describing dataset\n",
        "  3. target: key containing an array with labels\n"
      ]
    },
    {
      "cell_type": "code",
      "metadata": {
        "colab": {
          "base_uri": "https://localhost:8080/"
        },
        "id": "SQM8uZBYz4F4",
        "outputId": "75c918c5-f2e8-42c2-b43a-713c7f9afebe"
      },
      "source": [
        "X,y = mnist['data'], mnist['target']\n",
        "X.shape, y.shape"
      ],
      "execution_count": 3,
      "outputs": [
        {
          "output_type": "execute_result",
          "data": {
            "text/plain": [
              "((70000, 784), (70000,))"
            ]
          },
          "metadata": {
            "tags": []
          },
          "execution_count": 3
        }
      ]
    },
    {
      "cell_type": "markdown",
      "metadata": {
        "id": "ZwmjOLfj1FSO"
      },
      "source": [
        "There are 70000 images with 784 features.This is because each image is 28 × 28 pixels, and each feature simply represents one pixel’s intensity, from 0 (white) to 255 (black)"
      ]
    },
    {
      "cell_type": "code",
      "metadata": {
        "colab": {
          "base_uri": "https://localhost:8080/"
        },
        "id": "2yeL3I9M0zjP",
        "outputId": "cedd13e7-6b07-4838-bc2d-a79338d81902"
      },
      "source": [
        "print(len(X[0]) )\n",
        "print(y[2])\n",
        "print(X[0].shape)"
      ],
      "execution_count": 4,
      "outputs": [
        {
          "output_type": "stream",
          "text": [
            "784\n",
            "4\n",
            "(784,)\n"
          ],
          "name": "stdout"
        }
      ]
    },
    {
      "cell_type": "code",
      "metadata": {
        "colab": {
          "base_uri": "https://localhost:8080/",
          "height": 248
        },
        "id": "7tigS3Fy011e",
        "outputId": "1f2ee4a3-3cb0-423e-d820-4b6b2a18ecc6"
      },
      "source": [
        "## peek at one digit from the dataset\n",
        "some_digit = X[0]\n",
        "some_digit_image = some_digit.reshape(28,28)\n",
        "plt.imshow(some_digit_image,cmap='binary')\n",
        "plt.axis('off')\n",
        "plt.show()"
      ],
      "execution_count": 5,
      "outputs": [
        {
          "output_type": "display_data",
          "data": {
            "image/png": "[encoded data removed]",
            "text/plain": [
              "<Figure size 432x288 with 1 Axes>"
            ]
          },
          "metadata": {
            "tags": [],
            "needs_background": "light"
          }
        }
      ]
    },
    {
      "cell_type": "code",
      "metadata": {
        "colab": {
          "base_uri": "https://localhost:8080/",
          "height": 52
        },
        "id": "arXagwK21wwW",
        "outputId": "a3c6055a-fd0a-49c4-bcb6-ebb30f6cdd57"
      },
      "source": [
        "print(some_digit_image.shape)\n",
        "y[0]"
      ],
      "execution_count": 6,
      "outputs": [
        {
          "output_type": "stream",
          "text": [
            "(28, 28)\n"
          ],
          "name": "stdout"
        },
        {
          "output_type": "execute_result",
          "data": {
            "application/vnd.google.colaboratory.intrinsic+json": {
              "type": "string"
            },
            "text/plain": [
              "'5'"
            ]
          },
          "metadata": {
            "tags": []
          },
          "execution_count": 6
        }
      ]
    },
    {
      "cell_type": "code",
      "metadata": {
        "colab": {
          "base_uri": "https://localhost:8080/"
        },
        "id": "d31Cosdh2KWX",
        "outputId": "987c65be-bc84-45cd-b3d7-2171f883a511"
      },
      "source": [
        "y = y.astype(np.uint8)\n",
        "y"
      ],
      "execution_count": 7,
      "outputs": [
        {
          "output_type": "execute_result",
          "data": {
            "text/plain": [
              "array([5, 0, 4, ..., 4, 5, 6], dtype=uint8)"
            ]
          },
          "metadata": {
            "tags": []
          },
          "execution_count": 7
        }
      ]
    },
    {
      "cell_type": "code",
      "metadata": {
        "id": "XugBRF-D3D6G"
      },
      "source": [
        "X_train,X_test,y_train,y_test = X[:60000],X[60000:],y[:60000],y[60000:]"
      ],
      "execution_count": 8,
      "outputs": []
    },
    {
      "cell_type": "markdown",
      "metadata": {
        "id": "H6v4emLi399x"
      },
      "source": [
        "The training set is already shuffled for us, which is good because this guarantees that all cross-validation folds will be similar.\n",
        "\n",
        "### Training a Binary Classifier\n",
        "\n",
        "Try to identify one digit—for example, the number 5. This “5-detector” will be an example of a binary classifier, capable of distinguishing between just two classes, 5 and not-5"
      ]
    },
    {
      "cell_type": "code",
      "metadata": {
        "id": "APYZWAC24NBC"
      },
      "source": [
        "y_train5 =(y_train==5)\n",
        "y_test5 = (y_test==5)\n"
      ],
      "execution_count": 9,
      "outputs": []
    },
    {
      "cell_type": "code",
      "metadata": {
        "colab": {
          "base_uri": "https://localhost:8080/"
        },
        "id": "sSFKyNvBCpno",
        "outputId": "2befc0ab-503f-4a7e-f99f-1bea5808cccb"
      },
      "source": [
        "y_train5"
      ],
      "execution_count": 10,
      "outputs": [
        {
          "output_type": "execute_result",
          "data": {
            "text/plain": [
              "array([ True, False, False, ...,  True, False, False])"
            ]
          },
          "metadata": {
            "tags": []
          },
          "execution_count": 10
        }
      ]
    },
    {
      "cell_type": "markdown",
      "metadata": {
        "id": "UM7n0l8B6WmY"
      },
      "source": [
        " Picking SGD(stochastic gradient descent) classifier and train it.<br>\n",
        " SGD deals with training instances independently, one at a time "
      ]
    },
    {
      "cell_type": "code",
      "metadata": {
        "colab": {
          "base_uri": "https://localhost:8080/"
        },
        "id": "QQlnPtu56HNl",
        "outputId": "14543d54-1b21-418d-914f-c0f75a593cf3"
      },
      "source": [
        "from sklearn.linear_model import SGDClassifier\n",
        "sgd_clf = SGDClassifier(random_state=42)\n",
        "sgd_clf.fit(X_train,y_train5)"
      ],
      "execution_count": 11,
      "outputs": [
        {
          "output_type": "execute_result",
          "data": {
            "text/plain": [
              "SGDClassifier(alpha=0.0001, average=False, class_weight=None,\n",
              "              early_stopping=False, epsilon=0.1, eta0=0.0, fit_intercept=True,\n",
              "              l1_ratio=0.15, learning_rate='optimal', loss='hinge',\n",
              "              max_iter=1000, n_iter_no_change=5, n_jobs=None, penalty='l2',\n",
              "              power_t=0.5, random_state=42, shuffle=True, tol=0.001,\n",
              "              validation_fraction=0.1, verbose=0, warm_start=False)"
            ]
          },
          "metadata": {
            "tags": []
          },
          "execution_count": 11
        }
      ]
    },
    {
      "cell_type": "code",
      "metadata": {
        "colab": {
          "base_uri": "https://localhost:8080/"
        },
        "id": "oQiTt5Hv6vkW",
        "outputId": "095c2080-cdaa-43e3-fb35-05f5aa0d49d5"
      },
      "source": [
        "##  use it to detect images of the number 5\n",
        "sgd_clf.predict([some_digit])"
      ],
      "execution_count": 12,
      "outputs": [
        {
          "output_type": "execute_result",
          "data": {
            "text/plain": [
              "array([ True])"
            ]
          },
          "metadata": {
            "tags": []
          },
          "execution_count": 12
        }
      ]
    },
    {
      "cell_type": "markdown",
      "metadata": {
        "id": "2uOYr1EE7D8E"
      },
      "source": [
        "The classifier guesses that this image represents a 5 (True). <br>\n",
        "let’s evaluate this model’s performance.\n",
        "\n",
        "#### Performance Measures\n",
        "\n",
        "**Measuring Accuracy Using Cross-Validation**"
      ]
    },
    {
      "cell_type": "code",
      "metadata": {
        "colab": {
          "base_uri": "https://localhost:8080/"
        },
        "id": "0QSiuBQ66_L2",
        "outputId": "9c8de2bc-a6c1-4fae-e2dd-58071ea7b92d"
      },
      "source": [
        "## Implementing Cross Validation \n",
        "from sklearn.model_selection import StratifiedKFold\n",
        "from sklearn.base import clone\n",
        "\n",
        "skfolds = StratifiedKFold(n_splits=3, random_state=42)\n",
        "\n",
        "for train_index, test_index in skfolds.split(X_train,y_train5):\n",
        "  clone_clf = clone(sgd_clf)\n",
        "  X_train_folds = X_train[train_index]\n",
        "  X_test_folds = X_train[test_index]\n",
        "  y_train_folds = y_train5[train_index]\n",
        "  y_test_folds = y_train5[test_index]\n",
        "\n",
        "  clone_clf.fit(X_train_folds,y_train_folds)\n",
        "  y_pred= clone_clf.predict(X_test_folds)\n",
        "  n_correct = sum(y_pred==y_test_folds)\n",
        "  print(n_correct/len(y_pred))"
      ],
      "execution_count": 13,
      "outputs": [
        {
          "output_type": "stream",
          "text": [
            "/usr/local/lib/python3.6/dist-packages/sklearn/model_selection/_split.py:296: FutureWarning: Setting a random_state has no effect since shuffle is False. This will raise an error in 0.24. You should leave random_state to its default (None), or set shuffle=True.\n",
            "  FutureWarning\n"
          ],
          "name": "stderr"
        },
        {
          "output_type": "stream",
          "text": [
            "0.95035\n",
            "0.96035\n",
            "0.9604\n"
          ],
          "name": "stdout"
        }
      ]
    },
    {
      "cell_type": "markdown",
      "metadata": {
        "id": "UkI-dIjCBG6q"
      },
      "source": [
        "StratifiedKFold class performs stratified sampling to produce folds that contain a representative ratio of each class. At each iteration the code creates a clone of the classifier, trains that clone on the training folds, and makes predictions on the test fold. Then it counts the number of correct predictions and outputs the ratio of correct predictions."
      ]
    },
    {
      "cell_type": "code",
      "metadata": {
        "colab": {
          "base_uri": "https://localhost:8080/"
        },
        "id": "CJOMSuT1vGaD",
        "outputId": "75e126ab-5c3e-4b0b-c40b-f82e8d31f5b2"
      },
      "source": [
        "for train_index, test_index in skfolds.split(X_train,y_train5):\n",
        "  print(train_index,)"
      ],
      "execution_count": 14,
      "outputs": [
        {
          "output_type": "stream",
          "text": [
            "[19964 19965 19966 ... 59997 59998 59999]\n",
            "[    0     1     2 ... 59997 59998 59999]\n",
            "[    0     1     2 ... 40088 40125 40127]\n"
          ],
          "name": "stdout"
        }
      ]
    },
    {
      "cell_type": "code",
      "metadata": {
        "colab": {
          "base_uri": "https://localhost:8080/"
        },
        "id": "qG0qkCWC_TWc",
        "outputId": "c16cecff-a3ab-42bd-e665-464b08264333"
      },
      "source": [
        "## using cross_val_score to evaluate SGDClassifier using K-folds with 3 folds \n",
        "from sklearn.model_selection import cross_val_score\n",
        "cross_val_score(sgd_clf, X_train, y_train5, cv=3,scoring='accuracy')\n"
      ],
      "execution_count": 15,
      "outputs": [
        {
          "output_type": "execute_result",
          "data": {
            "text/plain": [
              "array([0.95035, 0.96035, 0.9604 ])"
            ]
          },
          "metadata": {
            "tags": []
          },
          "execution_count": 15
        }
      ]
    },
    {
      "cell_type": "markdown",
      "metadata": {
        "id": "Pqr1-IXqCNCp"
      },
      "source": [
        "let’s look at a very dumb classifier that just classifies every single image in the “not-5” class"
      ]
    },
    {
      "cell_type": "code",
      "metadata": {
        "colab": {
          "base_uri": "https://localhost:8080/"
        },
        "id": "GbRqMv9fEhaA",
        "outputId": "fbaf2c07-ffb4-4b2b-c419-42db6709671e"
      },
      "source": [
        "np.zeros((len(X_train),1),dtype=bool)"
      ],
      "execution_count": 16,
      "outputs": [
        {
          "output_type": "execute_result",
          "data": {
            "text/plain": [
              "array([[False],\n",
              "       [False],\n",
              "       [False],\n",
              "       ...,\n",
              "       [False],\n",
              "       [False],\n",
              "       [False]])"
            ]
          },
          "metadata": {
            "tags": []
          },
          "execution_count": 16
        }
      ]
    },
    {
      "cell_type": "code",
      "metadata": {
        "id": "mY-Uk8Yw_qXE"
      },
      "source": [
        "from sklearn.base import BaseEstimator\n",
        "class Never5Classifier(BaseEstimator):\n",
        "  def fit(self,X,y=None):\n",
        "    pass\n",
        "  def predict(self,X):\n",
        "    return np.zeros((len(X),1),dtype=bool)"
      ],
      "execution_count": 17,
      "outputs": []
    },
    {
      "cell_type": "code",
      "metadata": {
        "colab": {
          "base_uri": "https://localhost:8080/"
        },
        "id": "MBzaGQCgCr99",
        "outputId": "b60aa9e1-eaf9-4479-bf12-23ad02f19520"
      },
      "source": [
        "## testing this model Accuracy\n",
        "never_5_clf = Never5Classifier()\n",
        "cross_val_score(never_5_clf, X_train, y_train5, cv=3,scoring='accuracy')"
      ],
      "execution_count": 18,
      "outputs": [
        {
          "output_type": "execute_result",
          "data": {
            "text/plain": [
              "array([0.91125, 0.90855, 0.90915])"
            ]
          },
          "metadata": {
            "tags": []
          },
          "execution_count": 18
        }
      ]
    },
    {
      "cell_type": "code",
      "metadata": {
        "colab": {
          "base_uri": "https://localhost:8080/"
        },
        "id": "klrhBGS4DUxO",
        "outputId": "8de4d807-196a-4e30-e9f9-84bf28931d1a"
      },
      "source": [
        "sum(y_train5)*100/len(y_train5)"
      ],
      "execution_count": 19,
      "outputs": [
        {
          "output_type": "execute_result",
          "data": {
            "text/plain": [
              "9.035"
            ]
          },
          "metadata": {
            "tags": []
          },
          "execution_count": 19
        }
      ]
    },
    {
      "cell_type": "markdown",
      "metadata": {
        "id": "9yDX-MCpDCsG"
      },
      "source": [
        "it has over 90% accuracy! This is simply because only ~~ 10% of the images are 5s ( as it can be seen in above cell ), so if you always guess that an image is not a 5, you will be right about 90% of the time.\n",
        "\n",
        "This shows **why accuracy is generally not the preferred performance measure** for classifiers, especially when you are dealing with skewed datasets (i.e., when some classes are much more frequent than others).\n",
        "\n",
        "**Confusion Matrix**\n",
        "\n",
        "The idea is to count the number of times instances of class A are classified as class B.<br>\n",
        "To compute the confusion matrix, we first need to have a set of predictions so that they can be compared to the actual targets"
      ]
    },
    {
      "cell_type": "code",
      "metadata": {
        "id": "XaeGbFkXC9CZ"
      },
      "source": [
        "from sklearn.model_selection import cross_val_predict\n",
        "y_train_pred = cross_val_predict(sgd_clf,X_train,y_train5,cv=3)"
      ],
      "execution_count": 20,
      "outputs": []
    },
    {
      "cell_type": "markdown",
      "metadata": {
        "id": "7gWA6f-P2lkr"
      },
      "source": [
        "Just like the cross_val_score function,cross_val_predict\n",
        "performs K-fold cross-validation, but instead of returning the evaluation scores, it returns the predictions made on each test fold. This means that you get a clean prediction for each instance in the training se"
      ]
    },
    {
      "cell_type": "code",
      "metadata": {
        "colab": {
          "base_uri": "https://localhost:8080/"
        },
        "id": "h3qkTpM-DG-l",
        "outputId": "6b372e47-b2f5-46c6-87cc-5a837af9ee73"
      },
      "source": [
        "from sklearn.metrics import confusion_matrix\n",
        "confusion_matrix(y_train5,y_train_pred)"
      ],
      "execution_count": 21,
      "outputs": [
        {
          "output_type": "execute_result",
          "data": {
            "text/plain": [
              "array([[53892,   687],\n",
              "       [ 1891,  3530]])"
            ]
          },
          "metadata": {
            "tags": []
          },
          "execution_count": 21
        }
      ]
    },
    {
      "cell_type": "markdown",
      "metadata": {
        "id": "1Xn800p23D0b"
      },
      "source": [
        "Each row in a confusion matrix represents an actual class, while each column represents a predicted class. <br>\n",
        "The first row of this matrix considers non-5 images (the negative class): 53,892 of them were correctly classified as non-5s (they are called true negatives),while the remaining 687 were wrongly classified as 5s (false positives) <br>\n",
        "The second row considers the images of 5s (the positive class): 1,891 were wrongly classified as non-5s (false negatives), while the remaining 3,530 were correctly classified as 5s (true positives). "
      ]
    },
    {
      "cell_type": "code",
      "metadata": {
        "colab": {
          "base_uri": "https://localhost:8080/"
        },
        "id": "P3WHigod26qh",
        "outputId": "1f4fcab5-6f71-4321-c136-e8d14f02cf7f"
      },
      "source": [
        "## pretend we reach perfection\n",
        "y_train_perfect_pred =y_train5\n",
        "confusion_matrix(y_train5,y_train_perfect_pred)"
      ],
      "execution_count": 22,
      "outputs": [
        {
          "output_type": "execute_result",
          "data": {
            "text/plain": [
              "array([[54579,     0],\n",
              "       [    0,  5421]])"
            ]
          },
          "metadata": {
            "tags": []
          },
          "execution_count": 22
        }
      ]
    },
    {
      "cell_type": "markdown",
      "metadata": {
        "id": "LrOxzDkz5j0Z"
      },
      "source": [
        "\n",
        "**Precision and Recall** <br>\n",
        "\n",
        "Precision =  TP / (TP + FP )\n",
        "\n",
        "Recall = TP / (TP + FN) i.e TP / Number of Actuals "
      ]
    },
    {
      "cell_type": "code",
      "metadata": {
        "colab": {
          "base_uri": "https://localhost:8080/"
        },
        "id": "n6GBaAVZ4-nx",
        "outputId": "bbff86e8-d3db-4b97-baf6-159d6cb44309"
      },
      "source": [
        "from sklearn.metrics import precision_score,recall_score\n",
        "print(precision_score(y_train5,y_train_pred))\n",
        "\n",
        "print(recall_score(y_train5,y_train_pred))"
      ],
      "execution_count": 23,
      "outputs": [
        {
          "output_type": "stream",
          "text": [
            "0.8370879772350012\n",
            "0.6511713705958311\n"
          ],
          "name": "stdout"
        }
      ]
    },
    {
      "cell_type": "markdown",
      "metadata": {
        "id": "z2mSaT-T6eNl"
      },
      "source": [
        "It detects only 65% of the 5s. When it claims an image represents a 5, it is correct only 83.7% of the time.  <br>\n",
        "\n",
        "It is often convenient to combine precision and recall into a single metric called the F1 score, in particular if you need a simple way to compare two classifiers. \n",
        "\n",
        "F1 = 2 * Precision*recall / (Precision + recall) "
      ]
    },
    {
      "cell_type": "code",
      "metadata": {
        "colab": {
          "base_uri": "https://localhost:8080/"
        },
        "id": "zHxrbjzL6WMb",
        "outputId": "1f589bff-40d8-48d9-d2b8-9570f250ac74"
      },
      "source": [
        "from sklearn.metrics import f1_score\n",
        "f1_score(y_train5,y_train_pred)"
      ],
      "execution_count": 24,
      "outputs": [
        {
          "output_type": "execute_result",
          "data": {
            "text/plain": [
              "0.7325171197343846"
            ]
          },
          "metadata": {
            "tags": []
          },
          "execution_count": 24
        }
      ]
    },
    {
      "cell_type": "markdown",
      "metadata": {
        "id": "ocH5NLFj7NIa"
      },
      "source": [
        "The F1 score favors classifiers that have similar precision and recall. This is not always what you want: in some contexts you mostly care about precision, and in other contexts you really care about recall. \n",
        "\n",
        "**Precision/Recall Trade-off**\n",
        "\n",
        "Let’s look at how the SGDClassifier makes its classification decisions. For each instance, it computes a score based on a decision function. If that score is greater than a threshold, it assigns the instance to the positive class; otherwise it assigns it to the negative class.\n",
        "\n",
        "Scikit-Learn does not let us set the threshold directly, but it does give you access to the decision scores that it uses to make predictions. Instead of calling the classifier’s predict() method, we can call its decision_function() method, which returns a score for each instance, and then use any threshold you want to make predictions based on those\n",
        "scores."
      ]
    },
    {
      "cell_type": "code",
      "metadata": {
        "colab": {
          "base_uri": "https://localhost:8080/"
        },
        "id": "O9OCvlcF7Fr4",
        "outputId": "1351ebff-34fc-4912-ae6e-a959d2f50e26"
      },
      "source": [
        "y_scores = sgd_clf.decision_function([some_digit])\n",
        "y_scores"
      ],
      "execution_count": 25,
      "outputs": [
        {
          "output_type": "execute_result",
          "data": {
            "text/plain": [
              "array([2164.22030239])"
            ]
          },
          "metadata": {
            "tags": []
          },
          "execution_count": 25
        }
      ]
    },
    {
      "cell_type": "code",
      "metadata": {
        "colab": {
          "base_uri": "https://localhost:8080/"
        },
        "id": "A1kXgC4eEhxz",
        "outputId": "5c0627c8-0ec5-4580-a49f-ed5967d03ad2"
      },
      "source": [
        "threshold=0\n",
        "y_some_digit_pred = (y_scores >threshold)\n",
        "y_some_digit_pred"
      ],
      "execution_count": 26,
      "outputs": [
        {
          "output_type": "execute_result",
          "data": {
            "text/plain": [
              "array([ True])"
            ]
          },
          "metadata": {
            "tags": []
          },
          "execution_count": 26
        }
      ]
    },
    {
      "cell_type": "markdown",
      "metadata": {
        "id": "15nwQ5R7Ez18"
      },
      "source": [
        "The SGDClassifier uses a threshold equal to 0, so the previous code returns the same result as the predict method (i.e.True). <br>\n",
        "\n",
        "Let's raise the threshold to 8000 and check it"
      ]
    },
    {
      "cell_type": "code",
      "metadata": {
        "colab": {
          "base_uri": "https://localhost:8080/"
        },
        "id": "2ykztaXmEryh",
        "outputId": "b592b875-d703-42e5-8dc0-00e5220ac879"
      },
      "source": [
        "threshold=8000\n",
        "y_some_digit_pred = (y_scores >threshold)\n",
        "y_some_digit_pred"
      ],
      "execution_count": 27,
      "outputs": [
        {
          "output_type": "execute_result",
          "data": {
            "text/plain": [
              "array([False])"
            ]
          },
          "metadata": {
            "tags": []
          },
          "execution_count": 27
        }
      ]
    },
    {
      "cell_type": "markdown",
      "metadata": {
        "id": "VIATQmdnFFTU"
      },
      "source": [
        "This proves that raising the threshold decreases recall. The image actually represents a 5, and the classifier detects it when the threshold is 0, but it misses it when the threshold is increased to 8,000.\n",
        "\n",
        "**How do we decide which threshold to use?**\n",
        "\n",
        "1st use the cross_val_predict() function to get scores of all instances in the training set ,but this time  we need to specify that we want to return decision scores instead of predictions.\n"
      ]
    },
    {
      "cell_type": "code",
      "metadata": {
        "colab": {
          "base_uri": "https://localhost:8080/"
        },
        "id": "M6ujtJDbFEju",
        "outputId": "816ff4aa-cd99-461b-96c6-283c5bd54bcd"
      },
      "source": [
        "y_scores = cross_val_predict(sgd_clf,X_train,y_train5,cv=3,method='decision_function')\n",
        "y_scores"
      ],
      "execution_count": 28,
      "outputs": [
        {
          "output_type": "execute_result",
          "data": {
            "text/plain": [
              "array([  1200.93051237, -26883.79202424, -33072.03475406, ...,\n",
              "        13272.12718981,  -7258.47203373, -16877.50840447])"
            ]
          },
          "metadata": {
            "tags": []
          },
          "execution_count": 28
        }
      ]
    },
    {
      "cell_type": "markdown",
      "metadata": {
        "id": "2EraVzreGhyw"
      },
      "source": [
        "With these scores, we use the precision_recall_curve() function to compute precision and recall for all possible thresholds"
      ]
    },
    {
      "cell_type": "code",
      "metadata": {
        "colab": {
          "base_uri": "https://localhost:8080/"
        },
        "id": "ddKPNKTOGQyx",
        "outputId": "17957513-79e6-4176-83e7-767d303126df"
      },
      "source": [
        "from sklearn.metrics import precision_recall_curve\n",
        "precisons,recalls,thresholds = precision_recall_curve(y_train5,y_scores)\n",
        "print(precisons,recalls,thresholds)"
      ],
      "execution_count": 29,
      "outputs": [
        {
          "output_type": "stream",
          "text": [
            "[0.09040123 0.09038606 0.09038757 ... 1.         1.         1.        ] [1.00000000e+00 9.99815532e-01 9.99815532e-01 ... 3.68935621e-04\n",
            " 1.84467810e-04 0.00000000e+00] [-106527.45300471 -105763.22240074 -105406.2965229  ...   38871.26391927\n",
            "   42216.05562787   49441.43765905]\n"
          ],
          "name": "stdout"
        }
      ]
    },
    {
      "cell_type": "code",
      "metadata": {
        "colab": {
          "base_uri": "https://localhost:8080/"
        },
        "id": "y5TbCo9DILX5",
        "outputId": "3b8ba293-bb57-4c26-8671-6a57c6510723"
      },
      "source": [
        "print(precisons[:10])\n",
        "print(recalls[:10])\n",
        "print(thresholds[:10])"
      ],
      "execution_count": 30,
      "outputs": [
        {
          "output_type": "stream",
          "text": [
            "[0.09040123 0.09038606 0.09038757 0.09038907 0.09039058 0.09039209\n",
            " 0.0903936  0.0903951  0.09039661 0.09039812]\n",
            "[1.         0.99981553 0.99981553 0.99981553 0.99981553 0.99981553\n",
            " 0.99981553 0.99981553 0.99981553 0.99981553]\n",
            "[-106527.45300471 -105763.22240074 -105406.2965229  -104799.72132607\n",
            " -104613.21489858 -104301.77427438 -104269.96517977 -104176.49797209\n",
            " -103830.5663997  -103724.09022904]\n"
          ],
          "name": "stdout"
        }
      ]
    },
    {
      "cell_type": "code",
      "metadata": {
        "id": "JzK6yem1HP1l"
      },
      "source": [
        "def plot_precision_recall_vs_threshold(precisons,recalls,thresholds):\n",
        "  plt.plot(thresholds, precisons[:-1],\"b--\", label='Precision')\n",
        "  plt.plot(thresholds, recalls[:-1],\"g--\", label='Recall')\n",
        "  plt.xlabel(\"Threshold\", fontsize=16)\n",
        "  plt.legend(loc=\"upper left\", fontsize=16)\n",
        "  plt.ylim([0, 1])"
      ],
      "execution_count": 31,
      "outputs": []
    },
    {
      "cell_type": "code",
      "metadata": {
        "colab": {
          "base_uri": "https://localhost:8080/",
          "height": 288
        },
        "id": "6OUVg5ArIc4u",
        "outputId": "12ee5cf8-578a-4bdc-f184-d5e1679c9327"
      },
      "source": [
        "plt.figure(figsize=(8, 4))\n",
        "plot_precision_recall_vs_threshold(precisons,recalls,thresholds)\n",
        "plt.show()"
      ],
      "execution_count": 32,
      "outputs": [
        {
          "output_type": "display_data",
          "data": {
            "image/png": "[encoded data removed]",
            "text/plain": [
              "<Figure size 576x288 with 1 Axes>"
            ]
          },
          "metadata": {
            "tags": [],
            "needs_background": "light"
          }
        }
      ]
    },
    {
      "cell_type": "markdown",
      "metadata": {
        "id": "412uSJu6ImLQ"
      },
      "source": [
        "**Why the precision curve is bumpier than the recall curve ?**\n",
        "\n",
        "The reason is that precision may sometimes go down when you raise the threshold (although in general it will go up).\n",
        "\n",
        "Another way to select a good precision/recall trade-off is to plot precision directly against recall,"
      ]
    },
    {
      "cell_type": "code",
      "metadata": {
        "colab": {
          "base_uri": "https://localhost:8080/",
          "height": 397
        },
        "id": "b1jLpFQ_Igwx",
        "outputId": "271941e3-3950-42d6-9760-69d5875bfd6b"
      },
      "source": [
        "def plot_precision_vs_recall(precisons, recalls):\n",
        "    plt.plot(recalls, precisons, \"b-\", linewidth=2)\n",
        "    plt.xlabel(\"Recall\", fontsize=16)\n",
        "    plt.ylabel(\"Precision\", fontsize=16)\n",
        "    plt.axis([0, 1, 0, 1])\n",
        "\n",
        "plt.figure(figsize=(8, 6))\n",
        "plot_precision_vs_recall(precisons, recalls)\n",
        "plt.show()"
      ],
      "execution_count": 33,
      "outputs": [
        {
          "output_type": "display_data",
          "data": {
            "image/png": "[encoded data removed]",
            "text/plain": [
              "<Figure size 576x432 with 1 Axes>"
            ]
          },
          "metadata": {
            "tags": [],
            "needs_background": "light"
          }
        }
      ]
    },
    {
      "cell_type": "markdown",
      "metadata": {
        "id": "riTBsWWwW6Oy"
      },
      "source": [
        "We can see that precision really starts to fall sharply around 80% recall. We will probably want to select a precision/recall trade-off just before that drop—for example, at around 60% recall. But of course, the choice depends on the project.\n",
        "\n",
        "\n",
        "Assueme our aim is for 90% precision. We look up the first plot and find that we need to use a threshold of about 8,000. \n",
        "To be more precise we can search for the lowest threshold that gives  at least 90% precision\n",
        "( np.argmax will give  the first index of the maximum value, which in this case means the first value)"
      ]
    },
    {
      "cell_type": "code",
      "metadata": {
        "colab": {
          "base_uri": "https://localhost:8080/"
        },
        "id": "ccyhCOurWcoV",
        "outputId": "36c43454-d995-43e9-cd0e-1a34e41d7995"
      },
      "source": [
        "thresholds_90_precision = thresholds[np.argmax(precisons>=0.9)]\n",
        "thresholds_90_precision"
      ],
      "execution_count": 34,
      "outputs": [
        {
          "output_type": "execute_result",
          "data": {
            "text/plain": [
              "3370.0194991439557"
            ]
          },
          "metadata": {
            "tags": []
          },
          "execution_count": 34
        }
      ]
    },
    {
      "cell_type": "code",
      "metadata": {
        "colab": {
          "base_uri": "https://localhost:8080/"
        },
        "id": "_qKE4kNvXLH8",
        "outputId": "14f6b05b-cf59-435a-f942-6be4db44c161"
      },
      "source": [
        "y_train_pred_90 = (y_scores > thresholds_90_precision)\n",
        "precision_score(y_train5, y_train_pred_90)"
      ],
      "execution_count": 35,
      "outputs": [
        {
          "output_type": "execute_result",
          "data": {
            "text/plain": [
              "0.9"
            ]
          },
          "metadata": {
            "tags": []
          },
          "execution_count": 35
        }
      ]
    },
    {
      "cell_type": "code",
      "metadata": {
        "colab": {
          "base_uri": "https://localhost:8080/"
        },
        "id": "EpILpWODX0qu",
        "outputId": "0efddec2-1414-4165-c4ab-9248b4eb4208"
      },
      "source": [
        "recall_score(y_train5, y_train_pred_90)\n"
      ],
      "execution_count": 36,
      "outputs": [
        {
          "output_type": "execute_result",
          "data": {
            "text/plain": [
              "0.47980077476480354"
            ]
          },
          "metadata": {
            "tags": []
          },
          "execution_count": 36
        }
      ]
    },
    {
      "cell_type": "markdown",
      "metadata": {
        "id": "1g9-shIuX8up"
      },
      "source": [
        "**A high-precision classifier is not very useful if its recall is too low!**\n",
        "\n",
        "\n",
        "### The ROC Curve\n",
        "\n",
        "The receiver operating characteristic (ROC) curve is another common tool used with binary classifiers. It is very similar to the precision/recall curve, but instead of plotting precision versus recall, the ROC curve plots the true positive rate (another name for recall) against the false positive rate (FPR)\n",
        "i.e<br>\n",
        "**ROC Curve = TPR VS FPR**\n",
        "\n",
        "<font color=\"green\"> FPR is the ratio of negative instances that are incorrectly classified as positive <br>\n",
        "i.e 1 – the true negative rate (TNR) </font>\n",
        "\n",
        "<font color=\"blue\"> Specificity or TNR is ratio of negative instances that are correctly classified as negative </font>\n",
        "\n",
        "**ROC curve plots sensitivity (recall) versus 1 – specificity**"
      ]
    },
    {
      "cell_type": "code",
      "metadata": {
        "id": "SPnTjkURX4Pt"
      },
      "source": [
        "from sklearn.metrics import roc_curve\n",
        "fpr,tpr,thresholds = roc_curve(y_train5, y_scores)"
      ],
      "execution_count": 37,
      "outputs": []
    },
    {
      "cell_type": "code",
      "metadata": {
        "colab": {
          "base_uri": "https://localhost:8080/",
          "height": 397
        },
        "id": "OVSZUHn8rpGd",
        "outputId": "5c31f2ac-b70b-4670-a1c8-7a55dd7af59c"
      },
      "source": [
        "def plot_roc_curve(fpr, tpr, label=None):\n",
        "    plt.plot(fpr, tpr, linewidth=2, label=label)\n",
        "    plt.plot([0, 1], [0, 1], 'k--')\n",
        "    plt.axis([0, 1, 0, 1])\n",
        "    plt.xlabel('False Positive Rate', fontsize=16)\n",
        "    plt.ylabel('True Positive Rate (Recall)', fontsize=16)\n",
        "\n",
        "plt.figure(figsize=(8, 6))\n",
        "plot_roc_curve(fpr, tpr)\n",
        "plt.show()"
      ],
      "execution_count": 38,
      "outputs": [
        {
          "output_type": "display_data",
          "data": {
            "image/png": "[encoded data removed]",
            "text/plain": [
              "<Figure size 576x432 with 1 Axes>"
            ]
          },
          "metadata": {
            "tags": [],
            "needs_background": "light"
          }
        }
      ]
    },
    {
      "cell_type": "markdown",
      "metadata": {
        "id": "lTAsigvsw77I"
      },
      "source": [
        "Once again there is a trade-off: <font color ='red'>**the higher the recall (TPR), the more false positives (FPR) the classifier produces**.</font> The dotted line represents the ROC curve of a purely random classifier; a good classifier stays as far away from that line as possible (toward the top-left corner).\n",
        "\n",
        "One way to compare classifiers is to measure the area under the curve (AUC).<br> A perfect classifier will have a ROC AUC equal to 1, whereas a purely random classifier will have a ROC AUC equal to 0.5\n"
      ]
    },
    {
      "cell_type": "code",
      "metadata": {
        "colab": {
          "base_uri": "https://localhost:8080/"
        },
        "id": "lEQSOyl2rzoy",
        "outputId": "16c8ed89-13c3-455f-a4ee-4e99b98f1578"
      },
      "source": [
        "from sklearn.metrics import roc_auc_score\n",
        "roc_auc_score(y_train5, y_scores)"
      ],
      "execution_count": 39,
      "outputs": [
        {
          "output_type": "execute_result",
          "data": {
            "text/plain": [
              "0.9604938554008616"
            ]
          },
          "metadata": {
            "tags": []
          },
          "execution_count": 39
        }
      ]
    },
    {
      "cell_type": "markdown",
      "metadata": {
        "id": "E-DAGzoUyOXn"
      },
      "source": [
        "**VVIMP**<br>\n",
        "Since the ROC curve is so similar to the precision/recall (PR) curve, so how to decide which one to use ??.<br><font color='green'>\n",
        " As a rule of thumb, one should prefer the PR curve whenever the positive class is rare or when one care more about the false positives than the false negatives. Otherwise, use the ROC curve. </font> <br>\n",
        " For example, looking at the previous ROC curve (and the ROC AUC score), we may think that the classifier is really good. But this is mostly because there are few positives (5s) compared to the negatives (non- 5s). In contrast, the PR curve makes it clear that the classifier has room for improvement (the curve could be closer to the top-left corner).\n",
        "\n",
        "\n",
        " ### Training RandomForestClassifier and compare ROC/ROC AUC to SGDClassifier\n",
        "<br>\n",
        " \n",
        "RandomForestClassifier doesn't have decision_function instead it has predict_proba which returns an array\n",
        "containing a row per instance and a column per class,each containing the probability that the given instance belongs to the given class\n"
      ]
    },
    {
      "cell_type": "code",
      "metadata": {
        "id": "Nrcw4y7SyD3b"
      },
      "source": [
        "\n",
        "from sklearn.ensemble import RandomForestClassifier\n",
        "forest_clf  =RandomForestClassifier(random_state=42)\n",
        "y_probas_forest = cross_val_predict(forest_clf,X_train,y_train5,cv=3,method='predict_proba')"
      ],
      "execution_count": 40,
      "outputs": []
    },
    {
      "cell_type": "code",
      "metadata": {
        "colab": {
          "base_uri": "https://localhost:8080/"
        },
        "id": "21OAJEuY01cj",
        "outputId": "c042bf59-9a32-4939-9d5f-67c5e5a74c02"
      },
      "source": [
        "y_probas_forest"
      ],
      "execution_count": 41,
      "outputs": [
        {
          "output_type": "execute_result",
          "data": {
            "text/plain": [
              "array([[0.11, 0.89],\n",
              "       [0.99, 0.01],\n",
              "       [0.96, 0.04],\n",
              "       ...,\n",
              "       [0.02, 0.98],\n",
              "       [0.92, 0.08],\n",
              "       [0.94, 0.06]])"
            ]
          },
          "metadata": {
            "tags": []
          },
          "execution_count": 41
        }
      ]
    },
    {
      "cell_type": "markdown",
      "metadata": {
        "id": "qqzOqi641IRS"
      },
      "source": [
        "roc_curve() function expects labels and scores ,but instead of scores we can give it class probabilities.\n",
        "Let’s use the positive class’s probability as the score"
      ]
    },
    {
      "cell_type": "code",
      "metadata": {
        "id": "vL1cblOf1YOG"
      },
      "source": [
        "y_scores_forest =y_probas_forest[:,1] # score = prob. of +ve class ( 2nd col)\n",
        "fpr_forest,tpr_forest,thresholds_forest = roc_curve(y_train5,y_scores_forest)"
      ],
      "execution_count": 42,
      "outputs": []
    },
    {
      "cell_type": "code",
      "metadata": {
        "colab": {
          "base_uri": "https://localhost:8080/",
          "height": 288
        },
        "id": "LdlscEq42hae",
        "outputId": "786d9a13-6bb1-4efa-f8d5-65344a5fc2d2"
      },
      "source": [
        "## plotting ROC curve \n",
        "\n",
        "plt.plot(fpr,tpr,'g:',label='SGD')\n",
        "plot_roc_curve(fpr_forest,tpr_forest,\"Random Forest\")\n",
        "plt.legend(loc=\"lower right\")\n",
        "plt.show()"
      ],
      "execution_count": 43,
      "outputs": [
        {
          "output_type": "display_data",
          "data": {
            "image/png": "[encoded data removed]",
            "text/plain": [
              "<Figure size 432x288 with 1 Axes>"
            ]
          },
          "metadata": {
            "tags": [],
            "needs_background": "light"
          }
        }
      ]
    },
    {
      "cell_type": "markdown",
      "metadata": {
        "id": "EXu7ovKX3Kq3"
      },
      "source": [
        "**Comparing ROC curves**: the Random Forest classifier is superior to the SGD classifier because its ROC curve is much closer to the top-left corner, and it has a greater AUC"
      ]
    },
    {
      "cell_type": "code",
      "metadata": {
        "colab": {
          "base_uri": "https://localhost:8080/"
        },
        "id": "nFFfJwZS28ag",
        "outputId": "dcc6598d-880d-40b8-a8ee-eb735ea2c5b4"
      },
      "source": [
        "#getting roc_auc_score\n",
        "roc_auc_score(y_train5,y_scores_forest)"
      ],
      "execution_count": 44,
      "outputs": [
        {
          "output_type": "execute_result",
          "data": {
            "text/plain": [
              "0.9983436731328145"
            ]
          },
          "metadata": {
            "tags": []
          },
          "execution_count": 44
        }
      ]
    },
    {
      "cell_type": "code",
      "metadata": {
        "colab": {
          "base_uri": "https://localhost:8080/"
        },
        "id": "gzOhITb24wMF",
        "outputId": "3ca631bc-ecab-4ca5-a573-7014e5cc6e21"
      },
      "source": [
        "precisons_forest,recalls_forest,thresholds_for = precision_recall_curve(y_train5,y_scores_forest)\n",
        "print(precisons_forest[:10],\"\\n\",recalls_forest[:10])"
      ],
      "execution_count": 45,
      "outputs": [
        {
          "output_type": "stream",
          "text": [
            "[0.21697018 0.2782198  0.3359375  0.39168474 0.4434341  0.49221099\n",
            " 0.53883011 0.58103448 0.62384152 0.65814579] \n",
            " [1.         0.99981553 0.9994466  0.99926213 0.99852426 0.99667958\n",
            " 0.99575724 0.99465043 0.99335916 0.99262129]\n"
          ],
          "name": "stdout"
        }
      ]
    },
    {
      "cell_type": "code",
      "metadata": {
        "colab": {
          "base_uri": "https://localhost:8080/"
        },
        "id": "77kSGk_j5Dm7",
        "outputId": "8155753e-f642-4ec2-831b-d38fb522157a"
      },
      "source": [
        "thresholds_90_precision_for = thresholds_for[np.argmax(precisons_forest>=0.9)]\n",
        "thresholds_90_precision_for"
      ],
      "execution_count": 46,
      "outputs": [
        {
          "output_type": "execute_result",
          "data": {
            "text/plain": [
              "0.24"
            ]
          },
          "metadata": {
            "tags": []
          },
          "execution_count": 46
        }
      ]
    },
    {
      "cell_type": "code",
      "metadata": {
        "colab": {
          "base_uri": "https://localhost:8080/"
        },
        "id": "exqbekFy5ffn",
        "outputId": "ae45eaf2-0714-469d-d75f-7e5c144c7b9e"
      },
      "source": [
        "y_train_pred_90_forest = (y_scores_forest > thresholds_90_precision_for)\n",
        "precision_score(y_train5, y_train_pred_90_forest)"
      ],
      "execution_count": 47,
      "outputs": [
        {
          "output_type": "execute_result",
          "data": {
            "text/plain": [
              "0.9098615916955017"
            ]
          },
          "metadata": {
            "tags": []
          },
          "execution_count": 47
        }
      ]
    },
    {
      "cell_type": "code",
      "metadata": {
        "colab": {
          "base_uri": "https://localhost:8080/"
        },
        "id": "Bx_kCLr65ziK",
        "outputId": "927bba57-bfce-4eb5-b47e-4637d5108bb6"
      },
      "source": [
        "recall_score(y_train5, y_train_pred_90_forest)"
      ],
      "execution_count": 48,
      "outputs": [
        {
          "output_type": "execute_result",
          "data": {
            "text/plain": [
              "0.9701162147205312"
            ]
          },
          "metadata": {
            "tags": []
          },
          "execution_count": 48
        }
      ]
    },
    {
      "cell_type": "markdown",
      "metadata": {
        "id": "7vgJ6Gzb57EQ"
      },
      "source": [
        "As we see above, Getting precision and recall scores above using RandomForestClassifier is more than SGDClassifier.\n",
        "\n",
        "### Multiclass Classification\n",
        "\n",
        "There are various strategies that can be used to perform multiclass classification with multiple binary classifiers.<br>\n",
        "- train 10 binary classifiers, one for each digit, Then when you want to classify an image, you get the decision score from each classifier for that image and you select the class whose classifier outputs the highest score. This is called the **one-versus-the-rest (OvR) strategy (also called one-versus-all)**\n",
        "- train a binary classifier for every pair of digits: one to distinguish 0s and 1s, another to distinguish 0s and 2s another for 1s and 2s and so on.This is called the **one-versus-one (OvO) strategy**. If there are N classes, you need to train N × (N – 1) / 2 classifiers.\n",
        "\n",
        "The main advantage of OvO is that each classifier only needs to be trained on the part of the training set for the two classes that it must distinguish.\n",
        "\n",
        "Some algorithms (such as Support Vector Machine classifiers) scale poorly with the size of the training set. For these algorithms OvO is preferred because it is faster to train many classifiers on small training sets than to train few classifiers on large training sets. \n",
        "\n",
        "For most binary classification algorithms, however, OvR is preferred."
      ]
    },
    {
      "cell_type": "code",
      "metadata": {
        "colab": {
          "base_uri": "https://localhost:8080/"
        },
        "id": "sUPm2uHA51fX",
        "outputId": "17489758-16d4-4d6b-f7f9-1f587efe335a"
      },
      "source": [
        "from sklearn.svm import SVC\n",
        "svm_clf = SVC()\n",
        "svm_clf.fit(X_train, y_train) ## note we are not using y_train5 here \n",
        "svm_clf.predict([some_digit])"
      ],
      "execution_count": null,
      "outputs": [
        {
          "output_type": "execute_result",
          "data": {
            "text/plain": [
              "array([5], dtype=uint8)"
            ]
          },
          "metadata": {
            "tags": []
          },
          "execution_count": 51
        }
      ]
    },
    {
      "cell_type": "markdown",
      "metadata": {
        "id": "0POkBxt0A9Aj"
      },
      "source": [
        "This  trains the SVC on the training set using original target classes from 0 to 9 (y_train) instead of the 5-vs-the-rest target classes ( y_train5). <br>\n",
        "Then it makes a prediction (a correct one in this case). **Under the hood, Scikit-Learn actually used the OvO strategy**: it trained 45 binary classifiers, got their decision scores for the image, and selected the class that won the most duels.<br>\n",
        "Now, Calling decison_score function returns 10 scores per instance i.e 1 score per class"
      ]
    },
    {
      "cell_type": "code",
      "metadata": {
        "colab": {
          "base_uri": "https://localhost:8080/"
        },
        "id": "PGStCUizA3dP",
        "outputId": "a760f873-f854-425c-ee66-d3be445e256f"
      },
      "source": [
        "some_digit_scores = svm_clf.decision_function([some_digit])\n",
        "some_digit_scores"
      ],
      "execution_count": null,
      "outputs": [
        {
          "output_type": "execute_result",
          "data": {
            "text/plain": [
              "array([[ 1.72501977,  2.72809088,  7.2510018 ,  8.3076379 , -0.31087254,\n",
              "         9.3132482 ,  1.70975103,  2.76765202,  6.23049537,  4.84771048]])"
            ]
          },
          "metadata": {
            "tags": []
          },
          "execution_count": 52
        }
      ]
    },
    {
      "cell_type": "code",
      "metadata": {
        "colab": {
          "base_uri": "https://localhost:8080/"
        },
        "id": "eqI5g9Cya24n",
        "outputId": "7b430cbf-163b-4d45-85be-3a4606a5bb01"
      },
      "source": [
        "np.argmax(some_digit_scores)"
      ],
      "execution_count": null,
      "outputs": [
        {
          "output_type": "execute_result",
          "data": {
            "text/plain": [
              "5"
            ]
          },
          "metadata": {
            "tags": []
          },
          "execution_count": 53
        }
      ]
    },
    {
      "cell_type": "markdown",
      "metadata": {
        "id": "TkKMIz7LczJE"
      },
      "source": [
        "AS we can see the  highest score is indeed the one corresponding to class 5"
      ]
    },
    {
      "cell_type": "code",
      "metadata": {
        "colab": {
          "base_uri": "https://localhost:8080/"
        },
        "id": "4rTaORy8a_0L",
        "outputId": "18b2e549-3e27-469e-c3a4-624740126eae"
      },
      "source": [
        "print(svm_clf.classes_)\n",
        "print(svm_clf.classes_[5])"
      ],
      "execution_count": null,
      "outputs": [
        {
          "output_type": "stream",
          "text": [
            "[0 1 2 3 4 5 6 7 8 9]\n",
            "5\n"
          ],
          "name": "stdout"
        }
      ]
    },
    {
      "cell_type": "markdown",
      "metadata": {
        "id": "LCQn3sJzbc_X"
      },
      "source": [
        "When a classifier is trained, it stores the list of target classes in its attribute, ordered by value. In this case, the index of each class in the classes_ array conveniently matches the class itself (e.g., the class at index 5 happens to be class 5), but in general one won’t be so lucky."
      ]
    },
    {
      "cell_type": "code",
      "metadata": {
        "id": "_KczP3s-bJnw",
        "colab": {
          "base_uri": "https://localhost:8080/"
        },
        "outputId": "ae03e895-c98c-4dd6-9cea-2a44b09c8d4d"
      },
      "source": [
        "## force Scikit-Learn to use one-versus-one or one-versus-the- rest\n",
        "\n",
        "from sklearn.multiclass import OneVsRestClassifier\n",
        "ovr_clf = OneVsRestClassifier(SVC())\n",
        "ovr_clf.fit(X_train,y_train)\n",
        "ovr_clf.predict([some_digit])"
      ],
      "execution_count": null,
      "outputs": [
        {
          "output_type": "execute_result",
          "data": {
            "text/plain": [
              "array([5], dtype=uint8)"
            ]
          },
          "metadata": {
            "tags": []
          },
          "execution_count": 55
        }
      ]
    },
    {
      "cell_type": "code",
      "metadata": {
        "colab": {
          "base_uri": "https://localhost:8080/"
        },
        "id": "nKxL8iKfvGdW",
        "outputId": "4f52907d-4965-4b76-abac-64538c960171"
      },
      "source": [
        "len(ovr_clf.estimators_)"
      ],
      "execution_count": null,
      "outputs": [
        {
          "output_type": "execute_result",
          "data": {
            "text/plain": [
              "10"
            ]
          },
          "metadata": {
            "tags": []
          },
          "execution_count": 56
        }
      ]
    },
    {
      "cell_type": "code",
      "metadata": {
        "id": "8ftmeF-bdMg3",
        "colab": {
          "base_uri": "https://localhost:8080/"
        },
        "outputId": "a463e2db-8cc4-4b3a-ced0-d396d02446aa"
      },
      "source": [
        "## Training SGDClassifier/RandomForestClassifier\n",
        "\n",
        "sgd_clf.fit(X_train,y_train)\n",
        "sgd_clf.predict([some_digit])"
      ],
      "execution_count": null,
      "outputs": [
        {
          "output_type": "execute_result",
          "data": {
            "text/plain": [
              "array([3], dtype=uint8)"
            ]
          },
          "metadata": {
            "tags": []
          },
          "execution_count": 57
        }
      ]
    },
    {
      "cell_type": "markdown",
      "metadata": {
        "id": "RmScGsT6fyTV"
      },
      "source": [
        "This time Scikit-Learn did not have to run OvR or OvO because SGD classifiers can directly classify instances into multiple classes. \n",
        "\n",
        "The decision_function() returns one value per class."
      ]
    },
    {
      "cell_type": "code",
      "metadata": {
        "id": "rX3QtTs4lWro",
        "colab": {
          "base_uri": "https://localhost:8080/"
        },
        "outputId": "af35f403-c327-4c87-caa6-1ca1b9331c0f"
      },
      "source": [
        "sgd_clf.decision_function([some_digit])"
      ],
      "execution_count": null,
      "outputs": [
        {
          "output_type": "execute_result",
          "data": {
            "text/plain": [
              "array([[-31893.03095419, -34419.69069632,  -9530.63950739,\n",
              "          1823.73154031, -22320.14822878,  -1385.80478895,\n",
              "        -26188.91070951, -16147.51323997,  -4604.35491274,\n",
              "        -12050.767298  ]])"
            ]
          },
          "metadata": {
            "tags": []
          },
          "execution_count": 58
        }
      ]
    },
    {
      "cell_type": "markdown",
      "metadata": {
        "id": "TNtXSSTolqy9"
      },
      "source": [
        "We see that the classifier is fairly confident about its prediction: almost all scores are largely negative, while class 5  has a score of 2412.5\n",
        "\n",
        "Now we can use cross_val_score to evalutate the SGDclassifier accuracy"
      ]
    },
    {
      "cell_type": "code",
      "metadata": {
        "id": "o3GnyZEEl7fl",
        "colab": {
          "base_uri": "https://localhost:8080/"
        },
        "outputId": "29f966ed-59bb-4ad2-a8ea-cbc0419d3cc9"
      },
      "source": [
        "cross_val_score(sgd_clf, X_train, y_train, cv=3, scoring='accuracy')"
      ],
      "execution_count": null,
      "outputs": [
        {
          "output_type": "execute_result",
          "data": {
            "text/plain": [
              "array([0.87365, 0.85835, 0.8689 ])"
            ]
          },
          "metadata": {
            "tags": []
          },
          "execution_count": 59
        }
      ]
    },
    {
      "cell_type": "markdown",
      "metadata": {
        "id": "wmgKsT00pQxi"
      },
      "source": [
        "It gets over 84% on all test folds. If we used a random classifier, we would get 10% accuracy, so this is not such a bad score, but we can still do much better. <br>\n",
        "Simply scaling the inputs  increases accuracy above 89%"
      ]
    },
    {
      "cell_type": "code",
      "metadata": {
        "id": "4n7-K3q0pJPa",
        "colab": {
          "base_uri": "https://localhost:8080/"
        },
        "outputId": "adebffb9-1a2d-47a7-e022-b6a205022186"
      },
      "source": [
        "from sklearn.preprocessing import StandardScaler\n",
        "scaler = StandardScaler()\n",
        "X_train_scaled = scaler.fit_transform(X_train.astype(np.float64))\n",
        "cross_val_score(sgd_clf, X_train_scaled, y_train, cv=3, scoring='accuracy')"
      ],
      "execution_count": 49,
      "outputs": [
        {
          "output_type": "execute_result",
          "data": {
            "text/plain": [
              "array([0.8983, 0.891 , 0.9018])"
            ]
          },
          "metadata": {
            "tags": []
          },
          "execution_count": 49
        }
      ]
    },
    {
      "cell_type": "markdown",
      "metadata": {
        "id": "9OwqosyxrfxL"
      },
      "source": [
        "### Error Analysis\n",
        "\n",
        "Assuming that we found a promising model and  want to find ways to improve it. One way to do this is to analyze the types of errors it makes. <br>\n",
        "\n",
        "First, look at the confusion matrix. We need to make predictions using the cross_val_predict() function then call confusion_matrix().\n"
      ]
    },
    {
      "cell_type": "code",
      "metadata": {
        "id": "obDHJGBjrr9G",
        "colab": {
          "base_uri": "https://localhost:8080/"
        },
        "outputId": "37f6e2e7-9a26-424f-d26b-e4b363244747"
      },
      "source": [
        "y_train_pred = cross_val_predict(sgd_clf, X_train_scaled, y_train, cv=3)\n",
        "conf_mx = confusion_matrix(y_train, y_train_pred)\n",
        "conf_mx"
      ],
      "execution_count": 50,
      "outputs": [
        {
          "output_type": "execute_result",
          "data": {
            "text/plain": [
              "array([[5577,    0,   22,    5,    8,   43,   36,    6,  225,    1],\n",
              "       [   0, 6400,   37,   24,    4,   44,    4,    7,  212,   10],\n",
              "       [  27,   27, 5220,   92,   73,   27,   67,   36,  378,   11],\n",
              "       [  22,   17,  117, 5227,    2,  203,   27,   40,  403,   73],\n",
              "       [  12,   14,   41,    9, 5182,   12,   34,   27,  347,  164],\n",
              "       [  27,   15,   30,  168,   53, 4444,   75,   14,  535,   60],\n",
              "       [  30,   15,   42,    3,   44,   97, 5552,    3,  131,    1],\n",
              "       [  21,   10,   51,   30,   49,   12,    3, 5684,  195,  210],\n",
              "       [  17,   63,   48,   86,    3,  126,   25,   10, 5429,   44],\n",
              "       [  25,   18,   30,   64,  118,   36,    1,  179,  371, 5107]])"
            ]
          },
          "metadata": {
            "tags": []
          },
          "execution_count": 50
        }
      ]
    },
    {
      "cell_type": "markdown",
      "metadata": {
        "id": "iMTu5_SAvaYe"
      },
      "source": [
        "**Note**: rows represent actual classes, while columns represent predicted classes."
      ]
    },
    {
      "cell_type": "code",
      "metadata": {
        "id": "esrmOzSItEkl",
        "colab": {
          "base_uri": "https://localhost:8080/",
          "height": 275
        },
        "outputId": "ab7c4810-73e0-434e-a08b-8500f37c548d"
      },
      "source": [
        "plt.matshow(conf_mx, cmap=plt.cm.Greens)\n",
        "plt.show()"
      ],
      "execution_count": 52,
      "outputs": [
        {
          "output_type": "display_data",
          "data": {
            "image/png": "[encoded data removed]",
            "text/plain": [
              "<Figure size 288x288 with 1 Axes>"
            ]
          },
          "metadata": {
            "tags": [],
            "needs_background": "light"
          }
        }
      ]
    },
    {
      "cell_type": "markdown",
      "metadata": {
        "id": "TRdHmdIQzGvR"
      },
      "source": [
        "confusion matrix looks pretty good, since most images are on the main diagonal, which means that they were classified correctly <br>\n",
        "\n",
        "The 5s look slightly darker than the other digits, which could mean that there are fewer images of 5s in the dataset or that the classifier does not perform as well on 5s as on other digits.\n",
        "\n",
        "Let's Verify that both are the case and plot the error.\n",
        "  1. divide each value in the confusion matrix by the number of images in the corresponding class so that we can compare error rates instead of absolute numbers of errors\n",
        "  2.  Fill the diagonal with zeros to keep only the errors, and plot the result"
      ]
    },
    {
      "cell_type": "code",
      "metadata": {
        "id": "J2Dq5iYoCbuV"
      },
      "source": [
        "row_sums = conf_mx.sum(axis=1, keepdims=True)\n",
        "norm_conf_mx= conf_mx/row_sums"
      ],
      "execution_count": 53,
      "outputs": []
    },
    {
      "cell_type": "code",
      "metadata": {
        "id": "S-SBjr-wC4Yo",
        "colab": {
          "base_uri": "https://localhost:8080/",
          "height": 308
        },
        "outputId": "95867c16-86ee-4899-9222-673edb480fbd"
      },
      "source": [
        "## Fill the diagonal with zeros to keep only the errors, and plot the result:\n",
        "np.fill_diagonal(norm_conf_mx,0)\n",
        "plt.matshow(norm_conf_mx,cmap=plt.cm.Greens)\n",
        "plt.xlabel(\"\\n rows represent actual classes, while columns represent predicted classes\",fontsize=16)\n",
        "plt.show()"
      ],
      "execution_count": 58,
      "outputs": [
        {
          "output_type": "display_data",
          "data": {
            "image/png": "[encoded data removed]",
            "text/plain": [
              "<Figure size 288x288 with 1 Axes>"
            ]
          },
          "metadata": {
            "tags": [],
            "needs_background": "light"
          }
        }
      ]
    },
    {
      "cell_type": "markdown",
      "metadata": {
        "id": "AJR2E3K-yYNq"
      },
      "source": [
        "rows represent actual classes, while columns represent predicted classes\n",
        "\n",
        "\n",
        "The column for class 8 is quite bright, which tells that many images get misclassified as 8s. <br>\n",
        "However, the row for class 8 is not that bad, telling that actual 8s in general get properly classified as 8s. <br>\n",
        "confusion matrix is not necessarily symmetrical.\n",
        "\n",
        "It seems efforts should be spent on reducing the false 8s. for e.g. gather more training data for digits that look like 8s (but are not) so that the classifier can learn to distinguish them from real 8s\n",
        "\n",
        "### Multilabel Classification\n",
        "\n",
        "Consider a face-recognition classifier: what should it do if it recognizes several people in the same picture? It should attach one tag per person it recognizes. <br>\n",
        "Let the classifier has been trained to recognize three faces, Alice, Bob, and Charlie. Then when the classifier is shown a picture of Alice and Charlie, it should output [1, 0, 1].<br>\n",
        "**Such a classification system that outputs multiple binary tags is called a multilabel classification system**"
      ]
    },
    {
      "cell_type": "code",
      "metadata": {
        "colab": {
          "base_uri": "https://localhost:8080/"
        },
        "id": "SxtMGwNg48fW",
        "outputId": "f2cc6eb1-c65c-432e-fa17-ff9510bd3023"
      },
      "source": [
        "from sklearn.neighbors import KNeighborsClassifier\n",
        "\n",
        "y_train_large = (y_train>=7)\n",
        "y_train_odd = (y_train%2 ==1)\n",
        "y_multilabel = np.c_[y_train_large, y_train_odd]\n",
        "\n",
        "knn_clf = KNeighborsClassifier()\n",
        "knn_clf.fit(X_train, y_multilabel)"
      ],
      "execution_count": 59,
      "outputs": [
        {
          "output_type": "execute_result",
          "data": {
            "text/plain": [
              "KNeighborsClassifier(algorithm='auto', leaf_size=30, metric='minkowski',\n",
              "                     metric_params=None, n_jobs=None, n_neighbors=5, p=2,\n",
              "                     weights='uniform')"
            ]
          },
          "metadata": {
            "tags": []
          },
          "execution_count": 59
        }
      ]
    },
    {
      "cell_type": "markdown",
      "metadata": {
        "id": "QKCtnKf055Hg"
      },
      "source": [
        "y_multilabel creates an array containing two target labels for each digit image: the first indicates whether or not the digit is large \n",
        "and second indicates whether or not it is odd."
      ]
    },
    {
      "cell_type": "code",
      "metadata": {
        "colab": {
          "base_uri": "https://localhost:8080/"
        },
        "id": "aIKflEKX52uT",
        "outputId": "a7f149aa-5bde-4b62-c971-fde16b91cc35"
      },
      "source": [
        "knn_clf.predict([some_digit])"
      ],
      "execution_count": 60,
      "outputs": [
        {
          "output_type": "execute_result",
          "data": {
            "text/plain": [
              "array([[False,  True]])"
            ]
          },
          "metadata": {
            "tags": []
          },
          "execution_count": 60
        }
      ]
    },
    {
      "cell_type": "markdown",
      "metadata": {
        "id": "Q89gvMF66SvW"
      },
      "source": [
        "And it gets it right! The digit 5 is indeed not large ( False) and odd (odd ).\n",
        "\n",
        "To evaluate a multilabel classifier, and selecting the right metric really depends on the project. <br>\n",
        "one approach is to measure F1 Score for each individual label then compute the average score\n"
      ]
    },
    {
      "cell_type": "code",
      "metadata": {
        "colab": {
          "base_uri": "https://localhost:8080/",
          "height": 324
        },
        "id": "KGzn-yHL6Pja",
        "outputId": "a55a638a-ca35-46a5-afb0-557ca48cde04"
      },
      "source": [
        "y_train_knn_pred = cross_val_predict(knn_clf,X_train,y_multilabel,cv=3,n_jobs=-1)\n",
        "f1_score(y_multilabel,y_train_knn_pred,average='macro')"
      ],
      "execution_count": 68,
      "outputs": [
        {
          "output_type": "error",
          "ename": "KeyboardInterrupt",
          "evalue": "ignored",
          "traceback": [
            "\u001b[0;31m---------------------------------------------------------------------------\u001b[0m",
            "\u001b[0;31mKeyboardInterrupt\u001b[0m                         Traceback (most recent call last)",
            "\u001b[0;32m<ipython-input-68-a4ee44243e89>\u001b[0m in \u001b[0;36m<module>\u001b[0;34m()\u001b[0m\n\u001b[0;32m----> 1\u001b[0;31m \u001b[0my_train_knn_pred\u001b[0m \u001b[0;34m=\u001b[0m \u001b[0mcross_val_predict\u001b[0m\u001b[0;34m(\u001b[0m\u001b[0mknn_clf\u001b[0m\u001b[0;34m,\u001b[0m\u001b[0mX_train\u001b[0m\u001b[0;34m,\u001b[0m\u001b[0my_multilabel\u001b[0m\u001b[0;34m,\u001b[0m\u001b[0mcv\u001b[0m\u001b[0;34m=\u001b[0m\u001b[0;36m3\u001b[0m\u001b[0;34m,\u001b[0m\u001b[0mn_jobs\u001b[0m\u001b[0;34m=\u001b[0m\u001b[0;34m-\u001b[0m\u001b[0;36m1\u001b[0m\u001b[0;34m)\u001b[0m\u001b[0;34m\u001b[0m\u001b[0;34m\u001b[0m\u001b[0m\n\u001b[0m\u001b[1;32m      2\u001b[0m \u001b[0mf1_score\u001b[0m\u001b[0;34m(\u001b[0m\u001b[0my_multilabel\u001b[0m\u001b[0;34m,\u001b[0m\u001b[0my_train_knn_pred\u001b[0m\u001b[0;34m,\u001b[0m\u001b[0maverage\u001b[0m\u001b[0;34m=\u001b[0m\u001b[0;34m'macro'\u001b[0m\u001b[0;34m)\u001b[0m\u001b[0;34m\u001b[0m\u001b[0;34m\u001b[0m\u001b[0m\n",
            "\u001b[0;32m/usr/local/lib/python3.6/dist-packages/sklearn/model_selection/_validation.py\u001b[0m in \u001b[0;36mcross_val_predict\u001b[0;34m(estimator, X, y, groups, cv, n_jobs, verbose, fit_params, pre_dispatch, method)\u001b[0m\n\u001b[1;32m    753\u001b[0m     prediction_blocks = parallel(delayed(_fit_and_predict)(\n\u001b[1;32m    754\u001b[0m         clone(estimator), X, y, train, test, verbose, fit_params, method)\n\u001b[0;32m--> 755\u001b[0;31m         for train, test in cv.split(X, y, groups))\n\u001b[0m\u001b[1;32m    756\u001b[0m \u001b[0;34m\u001b[0m\u001b[0m\n\u001b[1;32m    757\u001b[0m     \u001b[0;31m# Concatenate the predictions\u001b[0m\u001b[0;34m\u001b[0m\u001b[0;34m\u001b[0m\u001b[0;34m\u001b[0m\u001b[0m\n",
            "\u001b[0;32m/usr/local/lib/python3.6/dist-packages/joblib/parallel.py\u001b[0m in \u001b[0;36m__call__\u001b[0;34m(self, iterable)\u001b[0m\n\u001b[1;32m   1052\u001b[0m \u001b[0;34m\u001b[0m\u001b[0m\n\u001b[1;32m   1053\u001b[0m             \u001b[0;32mwith\u001b[0m \u001b[0mself\u001b[0m\u001b[0;34m.\u001b[0m\u001b[0m_backend\u001b[0m\u001b[0;34m.\u001b[0m\u001b[0mretrieval_context\u001b[0m\u001b[0;34m(\u001b[0m\u001b[0;34m)\u001b[0m\u001b[0;34m:\u001b[0m\u001b[0;34m\u001b[0m\u001b[0;34m\u001b[0m\u001b[0m\n\u001b[0;32m-> 1054\u001b[0;31m                 \u001b[0mself\u001b[0m\u001b[0;34m.\u001b[0m\u001b[0mretrieve\u001b[0m\u001b[0;34m(\u001b[0m\u001b[0;34m)\u001b[0m\u001b[0;34m\u001b[0m\u001b[0;34m\u001b[0m\u001b[0m\n\u001b[0m\u001b[1;32m   1055\u001b[0m             \u001b[0;31m# Make sure that we get a last message telling us we are done\u001b[0m\u001b[0;34m\u001b[0m\u001b[0;34m\u001b[0m\u001b[0;34m\u001b[0m\u001b[0m\n\u001b[1;32m   1056\u001b[0m             \u001b[0melapsed_time\u001b[0m \u001b[0;34m=\u001b[0m \u001b[0mtime\u001b[0m\u001b[0;34m.\u001b[0m\u001b[0mtime\u001b[0m\u001b[0;34m(\u001b[0m\u001b[0;34m)\u001b[0m \u001b[0;34m-\u001b[0m \u001b[0mself\u001b[0m\u001b[0;34m.\u001b[0m\u001b[0m_start_time\u001b[0m\u001b[0;34m\u001b[0m\u001b[0;34m\u001b[0m\u001b[0m\n",
            "\u001b[0;32m/usr/local/lib/python3.6/dist-packages/joblib/parallel.py\u001b[0m in \u001b[0;36mretrieve\u001b[0;34m(self)\u001b[0m\n\u001b[1;32m    931\u001b[0m             \u001b[0;32mtry\u001b[0m\u001b[0;34m:\u001b[0m\u001b[0;34m\u001b[0m\u001b[0;34m\u001b[0m\u001b[0m\n\u001b[1;32m    932\u001b[0m                 \u001b[0;32mif\u001b[0m \u001b[0mgetattr\u001b[0m\u001b[0;34m(\u001b[0m\u001b[0mself\u001b[0m\u001b[0;34m.\u001b[0m\u001b[0m_backend\u001b[0m\u001b[0;34m,\u001b[0m \u001b[0;34m'supports_timeout'\u001b[0m\u001b[0;34m,\u001b[0m \u001b[0;32mFalse\u001b[0m\u001b[0;34m)\u001b[0m\u001b[0;34m:\u001b[0m\u001b[0;34m\u001b[0m\u001b[0;34m\u001b[0m\u001b[0m\n\u001b[0;32m--> 933\u001b[0;31m                     \u001b[0mself\u001b[0m\u001b[0;34m.\u001b[0m\u001b[0m_output\u001b[0m\u001b[0;34m.\u001b[0m\u001b[0mextend\u001b[0m\u001b[0;34m(\u001b[0m\u001b[0mjob\u001b[0m\u001b[0;34m.\u001b[0m\u001b[0mget\u001b[0m\u001b[0;34m(\u001b[0m\u001b[0mtimeout\u001b[0m\u001b[0;34m=\u001b[0m\u001b[0mself\u001b[0m\u001b[0;34m.\u001b[0m\u001b[0mtimeout\u001b[0m\u001b[0;34m)\u001b[0m\u001b[0;34m)\u001b[0m\u001b[0;34m\u001b[0m\u001b[0;34m\u001b[0m\u001b[0m\n\u001b[0m\u001b[1;32m    934\u001b[0m                 \u001b[0;32melse\u001b[0m\u001b[0;34m:\u001b[0m\u001b[0;34m\u001b[0m\u001b[0;34m\u001b[0m\u001b[0m\n\u001b[1;32m    935\u001b[0m                     \u001b[0mself\u001b[0m\u001b[0;34m.\u001b[0m\u001b[0m_output\u001b[0m\u001b[0;34m.\u001b[0m\u001b[0mextend\u001b[0m\u001b[0;34m(\u001b[0m\u001b[0mjob\u001b[0m\u001b[0;34m.\u001b[0m\u001b[0mget\u001b[0m\u001b[0;34m(\u001b[0m\u001b[0;34m)\u001b[0m\u001b[0;34m)\u001b[0m\u001b[0;34m\u001b[0m\u001b[0;34m\u001b[0m\u001b[0m\n",
            "\u001b[0;32m/usr/local/lib/python3.6/dist-packages/joblib/_parallel_backends.py\u001b[0m in \u001b[0;36mwrap_future_result\u001b[0;34m(future, timeout)\u001b[0m\n\u001b[1;32m    540\u001b[0m         AsyncResults.get from multiprocessing.\"\"\"\n\u001b[1;32m    541\u001b[0m         \u001b[0;32mtry\u001b[0m\u001b[0;34m:\u001b[0m\u001b[0;34m\u001b[0m\u001b[0;34m\u001b[0m\u001b[0m\n\u001b[0;32m--> 542\u001b[0;31m             \u001b[0;32mreturn\u001b[0m \u001b[0mfuture\u001b[0m\u001b[0;34m.\u001b[0m\u001b[0mresult\u001b[0m\u001b[0;34m(\u001b[0m\u001b[0mtimeout\u001b[0m\u001b[0;34m=\u001b[0m\u001b[0mtimeout\u001b[0m\u001b[0;34m)\u001b[0m\u001b[0;34m\u001b[0m\u001b[0;34m\u001b[0m\u001b[0m\n\u001b[0m\u001b[1;32m    543\u001b[0m         \u001b[0;32mexcept\u001b[0m \u001b[0mCfTimeoutError\u001b[0m \u001b[0;32mas\u001b[0m \u001b[0me\u001b[0m\u001b[0;34m:\u001b[0m\u001b[0;34m\u001b[0m\u001b[0;34m\u001b[0m\u001b[0m\n\u001b[1;32m    544\u001b[0m             \u001b[0;32mraise\u001b[0m \u001b[0mTimeoutError\u001b[0m \u001b[0;32mfrom\u001b[0m \u001b[0me\u001b[0m\u001b[0;34m\u001b[0m\u001b[0;34m\u001b[0m\u001b[0m\n",
            "\u001b[0;32m/usr/lib/python3.6/concurrent/futures/_base.py\u001b[0m in \u001b[0;36mresult\u001b[0;34m(self, timeout)\u001b[0m\n\u001b[1;32m    425\u001b[0m                 \u001b[0;32mreturn\u001b[0m \u001b[0mself\u001b[0m\u001b[0;34m.\u001b[0m\u001b[0m__get_result\u001b[0m\u001b[0;34m(\u001b[0m\u001b[0;34m)\u001b[0m\u001b[0;34m\u001b[0m\u001b[0;34m\u001b[0m\u001b[0m\n\u001b[1;32m    426\u001b[0m \u001b[0;34m\u001b[0m\u001b[0m\n\u001b[0;32m--> 427\u001b[0;31m             \u001b[0mself\u001b[0m\u001b[0;34m.\u001b[0m\u001b[0m_condition\u001b[0m\u001b[0;34m.\u001b[0m\u001b[0mwait\u001b[0m\u001b[0;34m(\u001b[0m\u001b[0mtimeout\u001b[0m\u001b[0;34m)\u001b[0m\u001b[0;34m\u001b[0m\u001b[0;34m\u001b[0m\u001b[0m\n\u001b[0m\u001b[1;32m    428\u001b[0m \u001b[0;34m\u001b[0m\u001b[0m\n\u001b[1;32m    429\u001b[0m             \u001b[0;32mif\u001b[0m \u001b[0mself\u001b[0m\u001b[0;34m.\u001b[0m\u001b[0m_state\u001b[0m \u001b[0;32min\u001b[0m \u001b[0;34m[\u001b[0m\u001b[0mCANCELLED\u001b[0m\u001b[0;34m,\u001b[0m \u001b[0mCANCELLED_AND_NOTIFIED\u001b[0m\u001b[0;34m]\u001b[0m\u001b[0;34m:\u001b[0m\u001b[0;34m\u001b[0m\u001b[0;34m\u001b[0m\u001b[0m\n",
            "\u001b[0;32m/usr/lib/python3.6/threading.py\u001b[0m in \u001b[0;36mwait\u001b[0;34m(self, timeout)\u001b[0m\n\u001b[1;32m    293\u001b[0m         \u001b[0;32mtry\u001b[0m\u001b[0;34m:\u001b[0m    \u001b[0;31m# restore state no matter what (e.g., KeyboardInterrupt)\u001b[0m\u001b[0;34m\u001b[0m\u001b[0;34m\u001b[0m\u001b[0m\n\u001b[1;32m    294\u001b[0m             \u001b[0;32mif\u001b[0m \u001b[0mtimeout\u001b[0m \u001b[0;32mis\u001b[0m \u001b[0;32mNone\u001b[0m\u001b[0;34m:\u001b[0m\u001b[0;34m\u001b[0m\u001b[0;34m\u001b[0m\u001b[0m\n\u001b[0;32m--> 295\u001b[0;31m                 \u001b[0mwaiter\u001b[0m\u001b[0;34m.\u001b[0m\u001b[0macquire\u001b[0m\u001b[0;34m(\u001b[0m\u001b[0;34m)\u001b[0m\u001b[0;34m\u001b[0m\u001b[0;34m\u001b[0m\u001b[0m\n\u001b[0m\u001b[1;32m    296\u001b[0m                 \u001b[0mgotit\u001b[0m \u001b[0;34m=\u001b[0m \u001b[0;32mTrue\u001b[0m\u001b[0;34m\u001b[0m\u001b[0;34m\u001b[0m\u001b[0m\n\u001b[1;32m    297\u001b[0m             \u001b[0;32melse\u001b[0m\u001b[0;34m:\u001b[0m\u001b[0;34m\u001b[0m\u001b[0;34m\u001b[0m\u001b[0m\n",
            "\u001b[0;31mKeyboardInterrupt\u001b[0m: "
          ]
        }
      ]
    },
    {
      "cell_type": "markdown",
      "metadata": {
        "id": "0BcCe5qv7VTi"
      },
      "source": [
        "above assumes that all labels are equally important  <br>\n",
        "In particular, if you have many more pictures of Alice than of Bob or Charlie, you may want to give more weight to the classifier’s score on pictures of Alice. <br>\n",
        "One simple option is to give each label a weight equal to its support"
      ]
    },
    {
      "cell_type": "code",
      "metadata": {
        "id": "vgvEY1uO7D5c"
      },
      "source": [
        "## giving weighted average to above \n",
        "f1_score(y_multilabel,y_train_knn_pred,average='weighted')"
      ],
      "execution_count": null,
      "outputs": []
    },
    {
      "cell_type": "markdown",
      "metadata": {
        "id": "rXJQMIMb8JMH"
      },
      "source": [
        "### Multioutput Classification (multioutput–multiclass classification)\n",
        "It is a generalization of multilabel classification where each label can be multiclass . for e.g. <br>\n",
        "Consider a system  that removes noise from images.<br>\n",
        "I/P : noisy digit image <br>\n",
        "O/P : clean digit image ,represented as an array of pixel intensities <br>\n",
        "\n",
        "**Note**:   the classifier’s output is multilabel (one label per pixel) and each label can have multiple values (pixel intensity ranges from 0 to 255). It is thus an example of a **multioutput classification system.**\n",
        "\n",
        "Let’s start by creating the training and test sets by taking the MNIST images and adding noise to their pixel intensities with NumPy’s randint()"
      ]
    },
    {
      "cell_type": "code",
      "metadata": {
        "id": "KjT7rAXd-9Xj"
      },
      "source": [
        "noise = np.random.randint(0,100, (len(X_train),784))\n",
        "X_train_mod= X_train + noise\n",
        "noise = np.random.randint(0,100, (len(X_test),784))\n",
        "X_test_mod= X_test + noise\n",
        "y_train_mod = X_train\n",
        "y_test_mod = X_test"
      ],
      "execution_count": 63,
      "outputs": []
    },
    {
      "cell_type": "code",
      "metadata": {
        "id": "fhBwuY99Efc2"
      },
      "source": [
        " def plot_digit(data):\n",
        "    image = data.reshape(28, 28)\n",
        "    plt.imshow(image, cmap = mpl.cm.binary,interpolation=\"nearest\")\n",
        "    plt.axis(\"off\")"
      ],
      "execution_count": 65,
      "outputs": []
    },
    {
      "cell_type": "code",
      "metadata": {
        "colab": {
          "base_uri": "https://localhost:8080/",
          "height": 183
        },
        "id": "E935LZCM_3Ga",
        "outputId": "ef13a448-1a35-4bf7-dc26-56a4c0d46145"
      },
      "source": [
        "some_index = 5500\n",
        "plt.subplot(121); plot_digit(X_test_mod[some_index])\n",
        "plt.subplot(122); plot_digit(y_test_mod[some_index])\n",
        "plt.show()"
      ],
      "execution_count": 66,
      "outputs": [
        {
          "output_type": "display_data",
          "data": {
            "image/png": "[encoded data removed]",
            "text/plain": [
              "<Figure size 432x288 with 2 Axes>"
            ]
          },
          "metadata": {
            "tags": [],
            "needs_background": "light"
          }
        }
      ]
    },
    {
      "cell_type": "code",
      "metadata": {
        "colab": {
          "base_uri": "https://localhost:8080/",
          "height": 248
        },
        "id": "j7L-ZxGc_b9b",
        "outputId": "115f8d66-7707-4211-ca9b-cee9d5934fe3"
      },
      "source": [
        "knn_clf.fit(X_train_mod, y_train_mod)\n",
        "clean_digit = knn_clf.predict([X_test_mod[some_index]])\n",
        "plot_digit(clean_digit)"
      ],
      "execution_count": 67,
      "outputs": [
        {
          "output_type": "display_data",
          "data": {
            "image/png": "[encoded data removed]",
            "text/plain": [
              "<Figure size 432x288 with 1 Axes>"
            ]
          },
          "metadata": {
            "tags": [],
            "needs_background": "light"
          }
        }
      ]
    },
    {
      "cell_type": "code",
      "metadata": {
        "id": "AZ4L--T7Emxh"
      },
      "source": [
        ""
      ],
      "execution_count": null,
      "outputs": []
    }
  ]
}