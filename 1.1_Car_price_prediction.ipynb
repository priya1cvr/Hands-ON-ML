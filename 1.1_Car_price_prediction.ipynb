{
  "nbformat": 4,
  "nbformat_minor": 0,
  "metadata": {
    "colab": {
      "name": "1.1_Car-price prediction.ipynb",
      "provenance": [],
      "collapsed_sections": [],
      "authorship_tag": "ABX9TyPWeysYOm2wLq0/FrpTKZcI",
      "include_colab_link": true
    },
    "kernelspec": {
      "name": "python3",
      "display_name": "Python 3"
    },
    "language_info": {
      "name": "python"
    }
  },
  "cells": [
    {
      "cell_type": "markdown",
      "metadata": {
        "id": "view-in-github",
        "colab_type": "text"
      },
      "source": [
        "<a href=\"https://colab.research.google.com/github/priya1cvr/Hands-ON-ML/blob/main/1.1_Car_price_prediction.ipynb\" target=\"_parent\"><img src=\"https://colab.research.google.com/assets/colab-badge.svg\" alt=\"Open In Colab\"/></a>"
      ]
    },
    {
      "cell_type": "markdown",
      "metadata": {
        "id": "vX8_yuufW33N"
      },
      "source": [
        "#### 1. Downloading Car Dataset"
      ]
    },
    {
      "cell_type": "code",
      "metadata": {
        "id": "xJ65DKjHW4fy"
      },
      "source": [
        "! pip install -q kaggle"
      ],
      "execution_count": null,
      "outputs": []
    },
    {
      "cell_type": "code",
      "metadata": {
        "id": "R3xvtYuuV1gl"
      },
      "source": [
        "from google.colab import files\n",
        "#files.upload()"
      ],
      "execution_count": 181,
      "outputs": []
    },
    {
      "cell_type": "code",
      "metadata": {
        "id": "tdjlRolQV7f6"
      },
      "source": [
        "! mkdir ~/.kaggle\n",
        "! cp kaggle.json ~/.kaggle/\n",
        "! chmod 600 ~/.kaggle/kaggle.json"
      ],
      "execution_count": 4,
      "outputs": []
    },
    {
      "cell_type": "code",
      "metadata": {
        "colab": {
          "base_uri": "https://localhost:8080/"
        },
        "id": "ZeVENbzqWOyR",
        "outputId": "6f09ffc9-5fe5-49d5-a0f4-c53d9ff829cb"
      },
      "source": [
        "! kaggle datasets download -d CooperUnion/cardataset"
      ],
      "execution_count": 6,
      "outputs": [
        {
          "output_type": "stream",
          "text": [
            "Downloading cardataset.zip to /content\n",
            "\r  0% 0.00/103k [00:00<?, ?B/s]\n",
            "\r100% 103k/103k [00:00<00:00, 46.5MB/s]\n"
          ],
          "name": "stdout"
        }
      ]
    },
    {
      "cell_type": "code",
      "metadata": {
        "colab": {
          "base_uri": "https://localhost:8080/"
        },
        "id": "FlEHbjZdWWdT",
        "outputId": "d33031e0-48e2-420b-8dc9-bea8e1fb303f"
      },
      "source": [
        "! unzip cardataset.zip"
      ],
      "execution_count": 8,
      "outputs": [
        {
          "output_type": "stream",
          "text": [
            "Archive:  cardataset.zip\n",
            "  inflating: data.csv                \n"
          ],
          "name": "stdout"
        }
      ]
    },
    {
      "cell_type": "markdown",
      "metadata": {
        "id": "R4DfgwjbXEG3"
      },
      "source": [
        "#### 2. Exploratory data analysis\n",
        "\n",
        "We look at the dataset to learn:\n",
        "+ The distribution of the target variable\n",
        "+ The features in this dataset\n",
        "+ The distribution of values in these features\n",
        "+ The quality of the data\n",
        "+ The number of missing values"
      ]
    },
    {
      "cell_type": "code",
      "metadata": {
        "id": "8BSf3YrlWw97"
      },
      "source": [
        "import numpy as np\n",
        "import pandas as pd\n",
        "import seaborn as sns\n",
        "from matplotlib import pyplot as plt\n",
        "%matplotlib inline\n"
      ],
      "execution_count": 110,
      "outputs": []
    },
    {
      "cell_type": "code",
      "metadata": {
        "id": "YjErCykeXsUS"
      },
      "source": [
        "cars_df = pd.read_csv('data.csv')"
      ],
      "execution_count": 111,
      "outputs": []
    },
    {
      "cell_type": "code",
      "metadata": {
        "colab": {
          "base_uri": "https://localhost:8080/",
          "height": 425
        },
        "id": "lcsQX9Q6XtLh",
        "outputId": "41bce054-d1a0-4d23-99e6-700a63143291"
      },
      "source": [
        "print(cars_df.shape)\n",
        "cars_df.head()"
      ],
      "execution_count": 112,
      "outputs": [
        {
          "output_type": "stream",
          "text": [
            "(11914, 16)\n"
          ],
          "name": "stdout"
        },
        {
          "output_type": "execute_result",
          "data": {
            "text/html": [
              "<div>\n",
              "<style scoped>\n",
              "    .dataframe tbody tr th:only-of-type {\n",
              "        vertical-align: middle;\n",
              "    }\n",
              "\n",
              "    .dataframe tbody tr th {\n",
              "        vertical-align: top;\n",
              "    }\n",
              "\n",
              "    .dataframe thead th {\n",
              "        text-align: right;\n",
              "    }\n",
              "</style>\n",
              "<table border=\"1\" class=\"dataframe\">\n",
              "  <thead>\n",
              "    <tr style=\"text-align: right;\">\n",
              "      <th></th>\n",
              "      <th>Make</th>\n",
              "      <th>Model</th>\n",
              "      <th>Year</th>\n",
              "      <th>Engine Fuel Type</th>\n",
              "      <th>Engine HP</th>\n",
              "      <th>Engine Cylinders</th>\n",
              "      <th>Transmission Type</th>\n",
              "      <th>Driven_Wheels</th>\n",
              "      <th>Number of Doors</th>\n",
              "      <th>Market Category</th>\n",
              "      <th>Vehicle Size</th>\n",
              "      <th>Vehicle Style</th>\n",
              "      <th>highway MPG</th>\n",
              "      <th>city mpg</th>\n",
              "      <th>Popularity</th>\n",
              "      <th>MSRP</th>\n",
              "    </tr>\n",
              "  </thead>\n",
              "  <tbody>\n",
              "    <tr>\n",
              "      <th>0</th>\n",
              "      <td>BMW</td>\n",
              "      <td>1 Series M</td>\n",
              "      <td>2011</td>\n",
              "      <td>premium unleaded (required)</td>\n",
              "      <td>335.0</td>\n",
              "      <td>6.0</td>\n",
              "      <td>MANUAL</td>\n",
              "      <td>rear wheel drive</td>\n",
              "      <td>2.0</td>\n",
              "      <td>Factory Tuner,Luxury,High-Performance</td>\n",
              "      <td>Compact</td>\n",
              "      <td>Coupe</td>\n",
              "      <td>26</td>\n",
              "      <td>19</td>\n",
              "      <td>3916</td>\n",
              "      <td>46135</td>\n",
              "    </tr>\n",
              "    <tr>\n",
              "      <th>1</th>\n",
              "      <td>BMW</td>\n",
              "      <td>1 Series</td>\n",
              "      <td>2011</td>\n",
              "      <td>premium unleaded (required)</td>\n",
              "      <td>300.0</td>\n",
              "      <td>6.0</td>\n",
              "      <td>MANUAL</td>\n",
              "      <td>rear wheel drive</td>\n",
              "      <td>2.0</td>\n",
              "      <td>Luxury,Performance</td>\n",
              "      <td>Compact</td>\n",
              "      <td>Convertible</td>\n",
              "      <td>28</td>\n",
              "      <td>19</td>\n",
              "      <td>3916</td>\n",
              "      <td>40650</td>\n",
              "    </tr>\n",
              "    <tr>\n",
              "      <th>2</th>\n",
              "      <td>BMW</td>\n",
              "      <td>1 Series</td>\n",
              "      <td>2011</td>\n",
              "      <td>premium unleaded (required)</td>\n",
              "      <td>300.0</td>\n",
              "      <td>6.0</td>\n",
              "      <td>MANUAL</td>\n",
              "      <td>rear wheel drive</td>\n",
              "      <td>2.0</td>\n",
              "      <td>Luxury,High-Performance</td>\n",
              "      <td>Compact</td>\n",
              "      <td>Coupe</td>\n",
              "      <td>28</td>\n",
              "      <td>20</td>\n",
              "      <td>3916</td>\n",
              "      <td>36350</td>\n",
              "    </tr>\n",
              "    <tr>\n",
              "      <th>3</th>\n",
              "      <td>BMW</td>\n",
              "      <td>1 Series</td>\n",
              "      <td>2011</td>\n",
              "      <td>premium unleaded (required)</td>\n",
              "      <td>230.0</td>\n",
              "      <td>6.0</td>\n",
              "      <td>MANUAL</td>\n",
              "      <td>rear wheel drive</td>\n",
              "      <td>2.0</td>\n",
              "      <td>Luxury,Performance</td>\n",
              "      <td>Compact</td>\n",
              "      <td>Coupe</td>\n",
              "      <td>28</td>\n",
              "      <td>18</td>\n",
              "      <td>3916</td>\n",
              "      <td>29450</td>\n",
              "    </tr>\n",
              "    <tr>\n",
              "      <th>4</th>\n",
              "      <td>BMW</td>\n",
              "      <td>1 Series</td>\n",
              "      <td>2011</td>\n",
              "      <td>premium unleaded (required)</td>\n",
              "      <td>230.0</td>\n",
              "      <td>6.0</td>\n",
              "      <td>MANUAL</td>\n",
              "      <td>rear wheel drive</td>\n",
              "      <td>2.0</td>\n",
              "      <td>Luxury</td>\n",
              "      <td>Compact</td>\n",
              "      <td>Convertible</td>\n",
              "      <td>28</td>\n",
              "      <td>18</td>\n",
              "      <td>3916</td>\n",
              "      <td>34500</td>\n",
              "    </tr>\n",
              "  </tbody>\n",
              "</table>\n",
              "</div>"
            ],
            "text/plain": [
              "  Make       Model  Year  ... city mpg  Popularity   MSRP\n",
              "0  BMW  1 Series M  2011  ...       19        3916  46135\n",
              "1  BMW    1 Series  2011  ...       19        3916  40650\n",
              "2  BMW    1 Series  2011  ...       20        3916  36350\n",
              "3  BMW    1 Series  2011  ...       18        3916  29450\n",
              "4  BMW    1 Series  2011  ...       18        3916  34500\n",
              "\n",
              "[5 rows x 16 columns]"
            ]
          },
          "metadata": {
            "tags": []
          },
          "execution_count": 112
        }
      ]
    },
    {
      "cell_type": "code",
      "metadata": {
        "id": "sfQwwc_RXx4i"
      },
      "source": [
        "## normalizing column names i.e: replace all spaces with underscores and lowercase all letters\n",
        "cars_df.columns = cars_df.columns.str.lower().str.replace(' ','_')\n",
        "\n",
        "#Select only columns with string values\n",
        "string_columns = list(cars_df.dtypes[cars_df.dtypes=='object'].index)\n",
        "\n",
        "for col in string_columns:\n",
        "  #Lowercase and replace spaces with underscores for values in all string columns of the dataframe.\n",
        "  cars_df[col] = cars_df[col].str.lower().str.replace(' ','_')"
      ],
      "execution_count": 113,
      "outputs": []
    },
    {
      "cell_type": "code",
      "metadata": {
        "colab": {
          "base_uri": "https://localhost:8080/",
          "height": 241
        },
        "id": "i87uRfB7Y1ED",
        "outputId": "357713e2-73bd-4294-fd0a-a9c01750fb2b"
      },
      "source": [
        "cars_df.head()"
      ],
      "execution_count": 114,
      "outputs": [
        {
          "output_type": "execute_result",
          "data": {
            "text/html": [
              "<div>\n",
              "<style scoped>\n",
              "    .dataframe tbody tr th:only-of-type {\n",
              "        vertical-align: middle;\n",
              "    }\n",
              "\n",
              "    .dataframe tbody tr th {\n",
              "        vertical-align: top;\n",
              "    }\n",
              "\n",
              "    .dataframe thead th {\n",
              "        text-align: right;\n",
              "    }\n",
              "</style>\n",
              "<table border=\"1\" class=\"dataframe\">\n",
              "  <thead>\n",
              "    <tr style=\"text-align: right;\">\n",
              "      <th></th>\n",
              "      <th>make</th>\n",
              "      <th>model</th>\n",
              "      <th>year</th>\n",
              "      <th>engine_fuel_type</th>\n",
              "      <th>engine_hp</th>\n",
              "      <th>engine_cylinders</th>\n",
              "      <th>transmission_type</th>\n",
              "      <th>driven_wheels</th>\n",
              "      <th>number_of_doors</th>\n",
              "      <th>market_category</th>\n",
              "      <th>vehicle_size</th>\n",
              "      <th>vehicle_style</th>\n",
              "      <th>highway_mpg</th>\n",
              "      <th>city_mpg</th>\n",
              "      <th>popularity</th>\n",
              "      <th>msrp</th>\n",
              "    </tr>\n",
              "  </thead>\n",
              "  <tbody>\n",
              "    <tr>\n",
              "      <th>0</th>\n",
              "      <td>bmw</td>\n",
              "      <td>1_series_m</td>\n",
              "      <td>2011</td>\n",
              "      <td>premium_unleaded_(required)</td>\n",
              "      <td>335.0</td>\n",
              "      <td>6.0</td>\n",
              "      <td>manual</td>\n",
              "      <td>rear_wheel_drive</td>\n",
              "      <td>2.0</td>\n",
              "      <td>factory_tuner,luxury,high-performance</td>\n",
              "      <td>compact</td>\n",
              "      <td>coupe</td>\n",
              "      <td>26</td>\n",
              "      <td>19</td>\n",
              "      <td>3916</td>\n",
              "      <td>46135</td>\n",
              "    </tr>\n",
              "    <tr>\n",
              "      <th>1</th>\n",
              "      <td>bmw</td>\n",
              "      <td>1_series</td>\n",
              "      <td>2011</td>\n",
              "      <td>premium_unleaded_(required)</td>\n",
              "      <td>300.0</td>\n",
              "      <td>6.0</td>\n",
              "      <td>manual</td>\n",
              "      <td>rear_wheel_drive</td>\n",
              "      <td>2.0</td>\n",
              "      <td>luxury,performance</td>\n",
              "      <td>compact</td>\n",
              "      <td>convertible</td>\n",
              "      <td>28</td>\n",
              "      <td>19</td>\n",
              "      <td>3916</td>\n",
              "      <td>40650</td>\n",
              "    </tr>\n",
              "    <tr>\n",
              "      <th>2</th>\n",
              "      <td>bmw</td>\n",
              "      <td>1_series</td>\n",
              "      <td>2011</td>\n",
              "      <td>premium_unleaded_(required)</td>\n",
              "      <td>300.0</td>\n",
              "      <td>6.0</td>\n",
              "      <td>manual</td>\n",
              "      <td>rear_wheel_drive</td>\n",
              "      <td>2.0</td>\n",
              "      <td>luxury,high-performance</td>\n",
              "      <td>compact</td>\n",
              "      <td>coupe</td>\n",
              "      <td>28</td>\n",
              "      <td>20</td>\n",
              "      <td>3916</td>\n",
              "      <td>36350</td>\n",
              "    </tr>\n",
              "    <tr>\n",
              "      <th>3</th>\n",
              "      <td>bmw</td>\n",
              "      <td>1_series</td>\n",
              "      <td>2011</td>\n",
              "      <td>premium_unleaded_(required)</td>\n",
              "      <td>230.0</td>\n",
              "      <td>6.0</td>\n",
              "      <td>manual</td>\n",
              "      <td>rear_wheel_drive</td>\n",
              "      <td>2.0</td>\n",
              "      <td>luxury,performance</td>\n",
              "      <td>compact</td>\n",
              "      <td>coupe</td>\n",
              "      <td>28</td>\n",
              "      <td>18</td>\n",
              "      <td>3916</td>\n",
              "      <td>29450</td>\n",
              "    </tr>\n",
              "    <tr>\n",
              "      <th>4</th>\n",
              "      <td>bmw</td>\n",
              "      <td>1_series</td>\n",
              "      <td>2011</td>\n",
              "      <td>premium_unleaded_(required)</td>\n",
              "      <td>230.0</td>\n",
              "      <td>6.0</td>\n",
              "      <td>manual</td>\n",
              "      <td>rear_wheel_drive</td>\n",
              "      <td>2.0</td>\n",
              "      <td>luxury</td>\n",
              "      <td>compact</td>\n",
              "      <td>convertible</td>\n",
              "      <td>28</td>\n",
              "      <td>18</td>\n",
              "      <td>3916</td>\n",
              "      <td>34500</td>\n",
              "    </tr>\n",
              "  </tbody>\n",
              "</table>\n",
              "</div>"
            ],
            "text/plain": [
              "  make       model  year  ... city_mpg  popularity   msrp\n",
              "0  bmw  1_series_m  2011  ...       19        3916  46135\n",
              "1  bmw    1_series  2011  ...       19        3916  40650\n",
              "2  bmw    1_series  2011  ...       20        3916  36350\n",
              "3  bmw    1_series  2011  ...       18        3916  29450\n",
              "4  bmw    1_series  2011  ...       18        3916  34500\n",
              "\n",
              "[5 rows x 16 columns]"
            ]
          },
          "metadata": {
            "tags": []
          },
          "execution_count": 114
        }
      ]
    },
    {
      "cell_type": "markdown",
      "metadata": {
        "id": "5nvoHPR2ZXrV"
      },
      "source": [
        "#### **2.2.1** Target variable analysis\n",
        "\n",
        "The **MSRP** column contain the important information — it’s our target variable, the y, which is the value that we want to learn to predict.\n",
        "\n",
        "Let's see how target variable looks like"
      ]
    },
    {
      "cell_type": "code",
      "metadata": {
        "colab": {
          "base_uri": "https://localhost:8080/",
          "height": 350
        },
        "id": "_Rt6ItsBZxlg",
        "outputId": "0d995875-7d3f-4269-a1f7-34b5421c43f3"
      },
      "source": [
        "sns.distplot(cars_df.msrp,kde=False)"
      ],
      "execution_count": 115,
      "outputs": [
        {
          "output_type": "stream",
          "text": [
            "/usr/local/lib/python3.7/dist-packages/seaborn/distributions.py:2557: FutureWarning: `distplot` is a deprecated function and will be removed in a future version. Please adapt your code to use either `displot` (a figure-level function with similar flexibility) or `histplot` (an axes-level function for histograms).\n",
            "  warnings.warn(msg, FutureWarning)\n"
          ],
          "name": "stderr"
        },
        {
          "output_type": "execute_result",
          "data": {
            "text/plain": [
              "<matplotlib.axes._subplots.AxesSubplot at 0x7f8aaa11a210>"
            ]
          },
          "metadata": {
            "tags": []
          },
          "execution_count": 115
        },
        {
          "output_type": "display_data",
          "data": {
            "image/png": "[encoded data removed]",
            "text/plain": [
              "<Figure size 432x288 with 1 Axes>"
            ]
          },
          "metadata": {
            "tags": [],
            "needs_background": "light"
          }
        }
      ]
    },
    {
      "cell_type": "markdown",
      "metadata": {
        "id": "WB2I-YNddD24"
      },
      "source": [
        "distribution of prices has a very long tail. There are many cars with low prices on the left side, but the number quickly drops, and there’s a long tail of very few cars with high prices.\n",
        "\n",
        "We can have a closer look by zooming in a bit and looking at values below $100,000"
      ]
    },
    {
      "cell_type": "code",
      "metadata": {
        "colab": {
          "base_uri": "https://localhost:8080/",
          "height": 361
        },
        "id": "8XEKqVlGZGqM",
        "outputId": "e439b1ec-9350-4598-a794-9ac183a7d5ea"
      },
      "source": [
        "sns.distplot(cars_df[cars_df['msrp']<100000]['msrp'])"
      ],
      "execution_count": 116,
      "outputs": [
        {
          "output_type": "stream",
          "text": [
            "/usr/local/lib/python3.7/dist-packages/seaborn/distributions.py:2557: FutureWarning: `distplot` is a deprecated function and will be removed in a future version. Please adapt your code to use either `displot` (a figure-level function with similar flexibility) or `histplot` (an axes-level function for histograms).\n",
            "  warnings.warn(msg, FutureWarning)\n"
          ],
          "name": "stderr"
        },
        {
          "output_type": "execute_result",
          "data": {
            "text/plain": [
              "<matplotlib.axes._subplots.AxesSubplot at 0x7f8aa8991550>"
            ]
          },
          "metadata": {
            "tags": []
          },
          "execution_count": 116
        },
        {
          "output_type": "display_data",
          "data": {
            "image/png": "[encoded data removed]",
            "text/plain": [
              "<Figure size 432x288 with 1 Axes>"
            ]
          },
          "metadata": {
            "tags": [],
            "needs_background": "light"
          }
        }
      ]
    },
    {
      "cell_type": "markdown",
      "metadata": {
        "id": "8mofI0spib1b"
      },
      "source": [
        "Looking only at car prices below 100,000  allows us to see the head of the distribution better. We also notice a lot of cars that cost $1,000.\n",
        "\n",
        "\n",
        "The long tail makes it quite difficult for us to see the distribution, but it has an even stronger effect on a model: such distribution can greatly confuse the model, so it won’t learn well enough. <br>\n",
        "One way to solve this problem is log transformation. If we apply the log function to the prices, it removes the undesired effect"
      ]
    },
    {
      "cell_type": "code",
      "metadata": {
        "colab": {
          "base_uri": "https://localhost:8080/",
          "height": 350
        },
        "id": "VaXE4TkjiBk-",
        "outputId": "0db269b8-dd3a-4ef5-f054-c938d2895b8c"
      },
      "source": [
        "#y_new = log(y+1)\n",
        "# +1 part in cases that have zeros \n",
        "log_price = np.log1p(cars_df.msrp)\n",
        "sns.distplot(log_price,kde=False)"
      ],
      "execution_count": 117,
      "outputs": [
        {
          "output_type": "stream",
          "text": [
            "/usr/local/lib/python3.7/dist-packages/seaborn/distributions.py:2557: FutureWarning: `distplot` is a deprecated function and will be removed in a future version. Please adapt your code to use either `displot` (a figure-level function with similar flexibility) or `histplot` (an axes-level function for histograms).\n",
            "  warnings.warn(msg, FutureWarning)\n"
          ],
          "name": "stderr"
        },
        {
          "output_type": "execute_result",
          "data": {
            "text/plain": [
              "<matplotlib.axes._subplots.AxesSubplot at 0x7f8aa895d150>"
            ]
          },
          "metadata": {
            "tags": []
          },
          "execution_count": 117
        },
        {
          "output_type": "display_data",
          "data": {
            "image/png": "[encoded data removed]",
            "text/plain": [
              "<Figure size 432x288 with 1 Axes>"
            ]
          },
          "metadata": {
            "tags": [],
            "needs_background": "light"
          }
        }
      ]
    },
    {
      "cell_type": "markdown",
      "metadata": {
        "id": "Y6xc0dfNjSJJ"
      },
      "source": [
        "The transformation removes the long tail, and now the distribution resembles a bell-shaped curve. <br>\n",
        "This distribution is not normal, of course, because of the large peak in lower prices, but the model can deal with it more easily\n",
        "\n",
        "#### **2.2.2** Checking for missing values"
      ]
    },
    {
      "cell_type": "code",
      "metadata": {
        "colab": {
          "base_uri": "https://localhost:8080/"
        },
        "id": "3JvCQLyQjF3d",
        "outputId": "e1062517-48ff-45a3-af66-7b9d7e2be10d"
      },
      "source": [
        "cars_df.isnull().sum()"
      ],
      "execution_count": 118,
      "outputs": [
        {
          "output_type": "execute_result",
          "data": {
            "text/plain": [
              "make                    0\n",
              "model                   0\n",
              "year                    0\n",
              "engine_fuel_type        3\n",
              "engine_hp              69\n",
              "engine_cylinders       30\n",
              "transmission_type       0\n",
              "driven_wheels           0\n",
              "number_of_doors         6\n",
              "market_category      3742\n",
              "vehicle_size            0\n",
              "vehicle_style           0\n",
              "highway_mpg             0\n",
              "city_mpg                0\n",
              "popularity              0\n",
              "msrp                    0\n",
              "dtype: int64"
            ]
          },
          "metadata": {
            "tags": []
          },
          "execution_count": 118
        }
      ]
    },
    {
      "cell_type": "markdown",
      "metadata": {
        "id": "vyG09uFolYhh"
      },
      "source": [
        "MSRP — our target variable — doesn’t have any missing values. <br>\n",
        "market_category, in which we have almost 4,000 rows with missing values.\n",
        "\n",
        "#### **2.2.3** Validation framework\n",
        "\n",
        "We should set up the validation framework as early as possible to make sure that the models we train are good and can generalize.\n",
        "<br> To do this we split the data into training, test and validation set <br>\n",
        "Let’s split the dataframe such that:<br>\n",
        "+ 20% of data goes to validation,\n",
        "+ 20% goes to test, and\n",
        "+ the remaining 60% goes to train "
      ]
    },
    {
      "cell_type": "code",
      "metadata": {
        "colab": {
          "base_uri": "https://localhost:8080/"
        },
        "id": "RWIpEA7clQwE",
        "outputId": "11595594-d694-4c19-d188-6acdd7d33c9c"
      },
      "source": [
        "## Splitting Data into validation, test, and training sets\n",
        "## without sklearn\n",
        "\n",
        "n = len(cars_df)\n",
        "n_val = int(0.2*n)\n",
        "n_test = int(0.2*n)\n",
        "n_train = n - (n_val + n_test)\n",
        "print(f\"n= {n},n_val= {n_val},n_test= {n_test}, n_train= {n_train}\".format(n,n_val,n_test,n_train))\n",
        "np.random.seed(2)\n",
        "idx = np.arange(n) # Create a NumPy array with indices from 0 to (n-1) and shuffle it.\n",
        "np.random.shuffle(idx )  # shuffle indexes \n",
        "cars_shuffled = cars_df.iloc[idx] # Use the array with indices to get a shuffled dataframe.\n",
        "\n",
        "df_train = cars_shuffled.iloc[:n_train].copy()\n",
        "df_val = cars_shuffled[n_train: n_train+n_val].copy()\n",
        "df_test = cars_shuffled[n_train+n_val: ].copy()\n"
      ],
      "execution_count": 119,
      "outputs": [
        {
          "output_type": "stream",
          "text": [
            "n= 11914,n_val= 2382,n_test= 2382, n_train= 7150\n"
          ],
          "name": "stdout"
        }
      ]
    },
    {
      "cell_type": "code",
      "metadata": {
        "id": "g6yIKXV8obqy"
      },
      "source": [
        "## Applying log transformation to long tailed values of target in each set \n",
        "y_train = np.log1p(df_train.msrp.values) \n",
        "y_val = np.log1p(df_val.msrp.values) \n",
        "y_test = np.log1p(df_test.msrp.values)"
      ],
      "execution_count": 120,
      "outputs": []
    },
    {
      "cell_type": "code",
      "metadata": {
        "id": "R_HjuPEKo0tn"
      },
      "source": [
        "## To avoid accidentally using the target variable later, let’s remove it from the dataframes:\n",
        "del df_train['msrp'] \n",
        "del df_val['msrp'] \n",
        "del df_test['msrp']"
      ],
      "execution_count": 121,
      "outputs": []
    },
    {
      "cell_type": "markdown",
      "metadata": {
        "id": "4KTnFyYirgsZ"
      },
      "source": [
        "#### 2.3 Training linear regression model\n",
        "\n",
        "To implement the normal equation, we need to do the following:\n",
        "1. Create a function that takes in a matrix X with features and a vector y with the target. \n",
        "2. Add a dummy column (the feature that is always set to 1) to the matrix X.\n",
        "3. Train the model: compute the weights w by using the normal equation.\n",
        "4. Split this w into the bias w0 and the rest of the weights, and return them.\n",
        "\n",
        "y_pred = w0 + X.dot(w)"
      ]
    },
    {
      "cell_type": "code",
      "metadata": {
        "id": "2HmZvb_Lo_8O"
      },
      "source": [
        "def linear_regression(X,y):\n",
        "  # adding dummy column\n",
        "  ones = np.ones(X.shape[0])\n",
        "  X = np.column_stack([ones,X])\n",
        "\n",
        "  # normal equation\n",
        "  XTX = X.T.dot(X)\n",
        "  XTX_inv = np.linalg.inv(XTX)\n",
        "  w = XTX_inv.dot(X.T).dot(y)\n",
        "  return w[0], w[1:]"
      ],
      "execution_count": 122,
      "outputs": []
    },
    {
      "cell_type": "markdown",
      "metadata": {
        "id": "0VOfFESUsw56"
      },
      "source": [
        "#### 2.4 Predicting the price\n",
        "\n",
        "Start with a very naive way of creating features: select a few numerical features and form the matrix X from them. "
      ]
    },
    {
      "cell_type": "code",
      "metadata": {
        "colab": {
          "base_uri": "https://localhost:8080/"
        },
        "id": "dY5Xd17zs8U0",
        "outputId": "5cc4b316-5bd7-47f0-f551-19a8272ea1d2"
      },
      "source": [
        "df_train.dtypes"
      ],
      "execution_count": 123,
      "outputs": [
        {
          "output_type": "execute_result",
          "data": {
            "text/plain": [
              "make                  object\n",
              "model                 object\n",
              "year                   int64\n",
              "engine_fuel_type      object\n",
              "engine_hp            float64\n",
              "engine_cylinders     float64\n",
              "transmission_type     object\n",
              "driven_wheels         object\n",
              "number_of_doors      float64\n",
              "market_category       object\n",
              "vehicle_size          object\n",
              "vehicle_style         object\n",
              "highway_mpg            int64\n",
              "city_mpg               int64\n",
              "popularity             int64\n",
              "dtype: object"
            ]
          },
          "metadata": {
            "tags": []
          },
          "execution_count": 123
        }
      ]
    },
    {
      "cell_type": "markdown",
      "metadata": {
        "id": "S6FZiW8OtKH_"
      },
      "source": [
        "In EDA we found dataset has missing values. <br>\n",
        "We need to do something because the linear regression model cannot deal with missing values automatically.<br> \n",
        "Dropping all the rows - will lose the information that we have in the other columns.<br>\n",
        "Filling the missing values with some other value - we don’t lose the information in other columns and still can make predictions "
      ]
    },
    {
      "cell_type": "code",
      "metadata": {
        "id": "98A-vNx0sjwv"
      },
      "source": [
        "base = ['engine_hp', 'engine_cylinders', 'highway_mpg', 'city_mpg', 'popularity']\n",
        "df_num = df_train[base]"
      ],
      "execution_count": 124,
      "outputs": []
    },
    {
      "cell_type": "code",
      "metadata": {
        "colab": {
          "base_uri": "https://localhost:8080/"
        },
        "id": "2f6tO09OuGql",
        "outputId": "643b2d3f-3b40-4032-b8e3-343b9e82912c"
      },
      "source": [
        "df_num = df_num.fillna(0)\n",
        "#This method may not be the best way to deal with missing values, but often, it’s good enough.\n",
        "\n",
        "## Lets convert this df to numpy array \n",
        "X_train = df_num.values\n",
        "print(\"Type of X_train is: \",type(X_train))"
      ],
      "execution_count": 125,
      "outputs": [
        {
          "output_type": "stream",
          "text": [
            "Type of X_train is:  <class 'numpy.ndarray'>\n"
          ],
          "name": "stdout"
        }
      ]
    },
    {
      "cell_type": "code",
      "metadata": {
        "colab": {
          "base_uri": "https://localhost:8080/"
        },
        "id": "mgEsSPN_vcZr",
        "outputId": "b75b2046-b846-4cef-8412-158efab56898"
      },
      "source": [
        "X_train.shape,y_train.shape"
      ],
      "execution_count": 126,
      "outputs": [
        {
          "output_type": "execute_result",
          "data": {
            "text/plain": [
              "((7150, 5), (7150,))"
            ]
          },
          "metadata": {
            "tags": []
          },
          "execution_count": 126
        }
      ]
    },
    {
      "cell_type": "code",
      "metadata": {
        "id": "hdjmDaB0vSQb"
      },
      "source": [
        "## get the intercept and slope \n",
        "w_0, w = linear_regression(X_train,y_train)"
      ],
      "execution_count": 127,
      "outputs": []
    },
    {
      "cell_type": "code",
      "metadata": {
        "id": "fXxQfYayvlX0"
      },
      "source": [
        "# y_pred = w0 + X.dot(w)\n",
        "y_pred = w_0 + X_train.dot(w)"
      ],
      "execution_count": 128,
      "outputs": []
    },
    {
      "cell_type": "code",
      "metadata": {
        "colab": {
          "base_uri": "https://localhost:8080/"
        },
        "id": "_CpRLUkcxLUR",
        "outputId": "c4e5aa1f-0856-4910-a602-ed336ff6dad7"
      },
      "source": [
        "y_pred"
      ],
      "execution_count": 129,
      "outputs": [
        {
          "output_type": "execute_result",
          "data": {
            "text/plain": [
              "array([ 9.54792783,  9.38733977,  9.67197758, ..., 10.30423015,\n",
              "       11.9778914 ,  9.99863111])"
            ]
          },
          "metadata": {
            "tags": []
          },
          "execution_count": 129
        }
      ]
    },
    {
      "cell_type": "code",
      "metadata": {
        "colab": {
          "base_uri": "https://localhost:8080/",
          "height": 384
        },
        "id": "3taz9R0GvqZw",
        "outputId": "85263edc-6c2b-4048-a52c-27590976cc1c"
      },
      "source": [
        "## see how good the predictions are\n",
        "sns.distplot(y_pred, label='prediction') \n",
        "sns.distplot(y_train, label='target') \n",
        "plt.legend()\n",
        "plt.xlabel('Log(Price+1)')\n",
        "plt.ylabel('Frequency')"
      ],
      "execution_count": 130,
      "outputs": [
        {
          "output_type": "stream",
          "text": [
            "/usr/local/lib/python3.7/dist-packages/seaborn/distributions.py:2557: FutureWarning: `distplot` is a deprecated function and will be removed in a future version. Please adapt your code to use either `displot` (a figure-level function with similar flexibility) or `histplot` (an axes-level function for histograms).\n",
            "  warnings.warn(msg, FutureWarning)\n",
            "/usr/local/lib/python3.7/dist-packages/seaborn/distributions.py:2557: FutureWarning: `distplot` is a deprecated function and will be removed in a future version. Please adapt your code to use either `displot` (a figure-level function with similar flexibility) or `histplot` (an axes-level function for histograms).\n",
            "  warnings.warn(msg, FutureWarning)\n"
          ],
          "name": "stderr"
        },
        {
          "output_type": "execute_result",
          "data": {
            "text/plain": [
              "Text(0, 0.5, 'Frequency')"
            ]
          },
          "metadata": {
            "tags": []
          },
          "execution_count": 130
        },
        {
          "output_type": "display_data",
          "data": {
            "image/png": "[encoded data removed]",
            "text/plain": [
              "<Figure size 432x288 with 1 Axes>"
            ]
          },
          "metadata": {
            "tags": [],
            "needs_background": "light"
          }
        }
      ]
    },
    {
      "cell_type": "markdown",
      "metadata": {
        "id": "nkIpEn4GxsP9"
      },
      "source": [
        "+ We can see from the plot that the distribution of values we predicted looks quite different from the actual values. <br>\n",
        "+ This implies model is not powerful enough to capture the distribution of the target variable.\n",
        "\n",
        "#### **2.4.1** RMSE: evaluating model quality\n",
        "![image.png](data:image/png;base64,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)"
      ]
    },
    {
      "cell_type": "code",
      "metadata": {
        "id": "KQ7ptzm1xbSN"
      },
      "source": [
        "def rmse(y,y_pred):\n",
        "  error = y_pred - y\n",
        "  mse = (error ** 2).mean()\n",
        "  return np.sqrt(mse)"
      ],
      "execution_count": 131,
      "outputs": []
    },
    {
      "cell_type": "code",
      "metadata": {
        "colab": {
          "base_uri": "https://localhost:8080/"
        },
        "id": "Pacst4ATytZV",
        "outputId": "d10a4804-0742-4806-8b02-3649fb6f3aef"
      },
      "source": [
        "# use RMSE to evaluate the quality of the model:\n",
        "rmse(y_train,y_pred)"
      ],
      "execution_count": 132,
      "outputs": [
        {
          "output_type": "execute_result",
          "data": {
            "text/plain": [
              "0.7554192603920132"
            ]
          },
          "metadata": {
            "tags": []
          },
          "execution_count": 132
        }
      ]
    },
    {
      "cell_type": "markdown",
      "metadata": {
        "id": "JvpaZ9EDy8Yf"
      },
      "source": [
        "This number tells us that on average, the model’s predictions are off by 0.75. <br>\n",
        "This result alone may not be very useful, but we can use it to compare this model with other models. <br>\n",
        "<font color ='green'> If one model has a better (lower) RMSE than the other, it indicates that this model is better.</font>\n",
        "\n",
        "#### **2.4.2** Validating the model"
      ]
    },
    {
      "cell_type": "code",
      "metadata": {
        "id": "vVBwfiMsy2jl"
      },
      "source": [
        "## Creating X_val same as X_train \n",
        "df_num = df_val[base]\n",
        "df_num = df_num.fillna(0)\n",
        "X_val = df_num.values"
      ],
      "execution_count": 133,
      "outputs": []
    },
    {
      "cell_type": "code",
      "metadata": {
        "colab": {
          "base_uri": "https://localhost:8080/"
        },
        "id": "d95O3fYd1e0L",
        "outputId": "8078816b-2ab7-4e58-e50c-0ba69c10307d"
      },
      "source": [
        "y_pred = w_0 + X_val.dot(w)\n",
        "rmse(y_val, y_pred)"
      ],
      "execution_count": 134,
      "outputs": [
        {
          "output_type": "execute_result",
          "data": {
            "text/plain": [
              "0.761653099130158"
            ]
          },
          "metadata": {
            "tags": []
          },
          "execution_count": 134
        }
      ]
    },
    {
      "cell_type": "markdown",
      "metadata": {
        "id": "tj8dpPwl8KoU"
      },
      "source": [
        "The value this code prints is 0.76, which is the number we should use for comparing models. <br>\n",
        "As we wrote the same code twice for X_train and X_Val thus put it in a function and avoid duplicating code."
      ]
    },
    {
      "cell_type": "code",
      "metadata": {
        "id": "ASUMiX2m1l3G"
      },
      "source": [
        "def prepare_X(df):\n",
        "  df_num = df[base]\n",
        "  df_num = df_num.fillna(0) \n",
        "  X = df_num.values\n",
        "  return X"
      ],
      "execution_count": 135,
      "outputs": []
    },
    {
      "cell_type": "code",
      "metadata": {
        "colab": {
          "base_uri": "https://localhost:8080/"
        },
        "id": "LiAPIKmS8cdU",
        "outputId": "b725be1b-1dc2-4fb2-c769-b736db293cc5"
      },
      "source": [
        "X_train = prepare_X(df_train)  \n",
        "w_0, w = linear_regression(X_train, y_train) \n",
        "\n",
        "X_val = prepare_X(df_val) \n",
        "y_pred = w_0 + X_val.dot(w)  \n",
        "print('validation:', rmse(y_val, y_pred))"
      ],
      "execution_count": 136,
      "outputs": [
        {
          "output_type": "stream",
          "text": [
            "validation: 0.761653099130158\n"
          ],
          "name": "stdout"
        }
      ]
    },
    {
      "cell_type": "markdown",
      "metadata": {
        "id": "3xTYxbHF-ZHc"
      },
      "source": [
        "#### **2.4.3** Simple feature engineering\n",
        "\n",
        "To improve our model further, we can add more features to the model: we create others and add them to the existing features. <br>\n",
        "This process is called **feature engineering.** <br>\n",
        "**Aim is to improve the RMSE calculated on the validation data.**\n",
        "\n",
        "create a new feature, age, from the feature \"year\" i.e. the newer the car, the more expensive it should\n"
      ]
    },
    {
      "cell_type": "code",
      "metadata": {
        "id": "LPI2d8IH8t0x"
      },
      "source": [
        "def prepare_X(df):\n",
        "  df = df.copy()\n",
        "  features = base.copy()\n",
        "\n",
        "  df['age'] = 2017 - df.year\n",
        "  features.append('age')\n",
        "  \n",
        "  df_num = df[features]\n",
        "  df_num = df_num.fillna(0) \n",
        "  X = df_num.values\n",
        "  return X"
      ],
      "execution_count": 137,
      "outputs": []
    },
    {
      "cell_type": "code",
      "metadata": {
        "colab": {
          "base_uri": "https://localhost:8080/"
        },
        "id": "3G-TGG6h_Pkq",
        "outputId": "6f589de7-5215-42b3-f290-c8ca9fbe169e"
      },
      "source": [
        "X_train = prepare_X(df_train)  \n",
        "w_0, w = linear_regression(X_train, y_train) \n",
        "\n",
        "X_val = prepare_X(df_val) \n",
        "y_pred = w_0 + X_val.dot(w)  \n",
        "print('validation:', rmse(y_val, y_pred))"
      ],
      "execution_count": 138,
      "outputs": [
        {
          "output_type": "stream",
          "text": [
            "validation: 0.5172055461058312\n"
          ],
          "name": "stdout"
        }
      ]
    },
    {
      "cell_type": "markdown",
      "metadata": {
        "id": "Bb5_9OC-_cF_"
      },
      "source": [
        "The validation error is 0.517, which is a good improvement from 0.76 — the value we had in the baseline solution. <br>\n",
        "Thus, we conclude that adding age is indeed helpful when making predictions."
      ]
    },
    {
      "cell_type": "code",
      "metadata": {
        "colab": {
          "base_uri": "https://localhost:8080/",
          "height": 384
        },
        "id": "dNKu9h-Q_Yi0",
        "outputId": "3be122e6-dd90-4e0a-d173-0bab6dbbf6a7"
      },
      "source": [
        "## see how good the predictions are\n",
        "sns.distplot(y_pred, label='prediction') \n",
        "sns.distplot(y_val, label='target') \n",
        "plt.legend()\n",
        "plt.xlabel('Log(Price+1)')\n",
        "plt.ylabel('Frequency')"
      ],
      "execution_count": 139,
      "outputs": [
        {
          "output_type": "stream",
          "text": [
            "/usr/local/lib/python3.7/dist-packages/seaborn/distributions.py:2557: FutureWarning: `distplot` is a deprecated function and will be removed in a future version. Please adapt your code to use either `displot` (a figure-level function with similar flexibility) or `histplot` (an axes-level function for histograms).\n",
            "  warnings.warn(msg, FutureWarning)\n",
            "/usr/local/lib/python3.7/dist-packages/seaborn/distributions.py:2557: FutureWarning: `distplot` is a deprecated function and will be removed in a future version. Please adapt your code to use either `displot` (a figure-level function with similar flexibility) or `histplot` (an axes-level function for histograms).\n",
            "  warnings.warn(msg, FutureWarning)\n"
          ],
          "name": "stderr"
        },
        {
          "output_type": "execute_result",
          "data": {
            "text/plain": [
              "Text(0, 0.5, 'Frequency')"
            ]
          },
          "metadata": {
            "tags": []
          },
          "execution_count": 139
        },
        {
          "output_type": "display_data",
          "data": {
            "image/png": "[encoded data removed]",
            "text/plain": [
              "<Figure size 432x288 with 1 Axes>"
            ]
          },
          "metadata": {
            "tags": [],
            "needs_background": "light"
          }
        }
      ]
    },
    {
      "cell_type": "markdown",
      "metadata": {
        "id": "VXOY7DssALfx"
      },
      "source": [
        "#### **2.4.4** Handling categorical variables\n",
        "\n",
        "Let’s continue adding more features \n",
        "+ number of doors seems like integer but it takes only 3 values i.e 2,3,4. Its not really numberic as we can't say that by adding one more door, the price of a car grows (or drops)\n",
        "+ Categorical variables describe characteristics of objects and takes few possible values . for e.g. make of car (BMW,Toyota,Ford etc) \n",
        "+ So, encode such variables by a set of binary features, with a separate feature for each distinct value. This method of encoding categorical variables is called **one-hot encoding**\n",
        "+ We can use a few more variables: engine_fuel_type, transmission_type,  driven_wheels, market_category, vehicle_size, and vehicle_style. "
      ]
    },
    {
      "cell_type": "code",
      "metadata": {
        "colab": {
          "base_uri": "https://localhost:8080/"
        },
        "id": "lhtFv4__BQ7J",
        "outputId": "91bedbb6-3ec4-4206-c0ee-7902e9da9641"
      },
      "source": [
        "cars_df['number_of_doors'].value_counts()"
      ],
      "execution_count": 140,
      "outputs": [
        {
          "output_type": "execute_result",
          "data": {
            "text/plain": [
              "4.0    8353\n",
              "2.0    3160\n",
              "3.0     395\n",
              "Name: number_of_doors, dtype: int64"
            ]
          },
          "metadata": {
            "tags": []
          },
          "execution_count": 140
        }
      ]
    },
    {
      "cell_type": "code",
      "metadata": {
        "colab": {
          "base_uri": "https://localhost:8080/"
        },
        "id": "HSXPNEUIBlpA",
        "outputId": "bb463f87-b132-4ab4-8c31-3ea5fd133368"
      },
      "source": [
        "list(cars_df['number_of_doors'].unique())"
      ],
      "execution_count": 141,
      "outputs": [
        {
          "output_type": "execute_result",
          "data": {
            "text/plain": [
              "[2.0, 4.0, 3.0, nan]"
            ]
          },
          "metadata": {
            "tags": []
          },
          "execution_count": 141
        }
      ]
    },
    {
      "cell_type": "code",
      "metadata": {
        "colab": {
          "base_uri": "https://localhost:8080/"
        },
        "id": "98eZcM9N_v4m",
        "outputId": "2a908fad-cb4a-4f58-ceea-766eec870fde"
      },
      "source": [
        "# It should be enough to get and use only the most frequently occurring values for make column\n",
        "cars_df['make'].value_counts().head(5)"
      ],
      "execution_count": 142,
      "outputs": [
        {
          "output_type": "execute_result",
          "data": {
            "text/plain": [
              "chevrolet     1123\n",
              "ford           881\n",
              "volkswagen     809\n",
              "toyota         746\n",
              "dodge          626\n",
              "Name: make, dtype: int64"
            ]
          },
          "metadata": {
            "tags": []
          },
          "execution_count": 142
        }
      ]
    },
    {
      "cell_type": "code",
      "metadata": {
        "colab": {
          "base_uri": "https://localhost:8080/"
        },
        "id": "Amwx7qClW0RK",
        "outputId": "7beba733-dff0-4ba8-90b7-6f24e8ce42f1"
      },
      "source": [
        "cars_df['engine_fuel_type'].value_counts().head(5)"
      ],
      "execution_count": 143,
      "outputs": [
        {
          "output_type": "execute_result",
          "data": {
            "text/plain": [
              "regular_unleaded                  7172\n",
              "premium_unleaded_(required)       2009\n",
              "premium_unleaded_(recommended)    1523\n",
              "flex-fuel_(unleaded/e85)           899\n",
              "diesel                             154\n",
              "Name: engine_fuel_type, dtype: int64"
            ]
          },
          "metadata": {
            "tags": []
          },
          "execution_count": 143
        }
      ]
    },
    {
      "cell_type": "code",
      "metadata": {
        "id": "rMpzk9vXBAaf"
      },
      "source": [
        "def prepare_X(df):\n",
        "  df = df.copy()\n",
        "  features = base.copy()\n",
        "\n",
        "  df['age'] = 2017 - df.year\n",
        "  features.append('age')\n",
        "\n",
        "  \n",
        "  for v in ['chevrolet', 'ford', 'volkswagen', 'toyota', 'dodge']: # taking 5 most frequent\n",
        "    feature = 'is_make_%s' % v\n",
        "    df[feature]= (df['number_of_doors']==v).astype(int)\n",
        "    features.append(feature)\n",
        "\n",
        "  for v in [2,3,4]:\n",
        "    feature = 'num_doors_%s' % v\n",
        "    df[feature]= (df['number_of_doors']==v).astype(int)\n",
        "    features.append(feature)\n",
        "  \n",
        "  for v in ['regular_unleaded', 'premium_unleaded_(required)', \n",
        "            'premium_unleaded_(recommended)','flex-fuel_(unleaded/e85)']: \n",
        "    feature = 'is_type_%s' % v\n",
        "    df[feature] = (df['engine_fuel_type'] == v).astype(int) \n",
        "    features.append(feature)\n",
        "  \n",
        "  for v in ['automatic', 'manual', 'automated_manual']:  \n",
        "    feature = 'is_transmission_%s' % v\n",
        "    df[feature] = (df['transmission_type'] == v).astype(int) \n",
        "    features.append(feature)\n",
        "  \n",
        "  for v in ['front_wheel_drive', 'rear_wheel_drive', 'all_wheel_drive', 'four_wheel_drive']: \n",
        "    feature = 'is_driven_wheels_%s' % v\n",
        "    df[feature] = (df['driven_wheels'] == v).astype(int) \n",
        "    features.append(feature)\n",
        "\n",
        "  for v in ['crossover', 'flex_fuel', 'luxury', 'luxury,performance', 'hatchback']: \n",
        "    feature = 'is_mc_%s' % v\n",
        "    df[feature] = (df['market_category'] == v).astype(int) \n",
        "    features.append(feature)\n",
        "\n",
        "  for v in ['compact', 'midsize', 'large']: \n",
        "    feature = 'is_size_%s' % v\n",
        "    df[feature] = (df['vehicle_size'] == v).astype(int) \n",
        "    features.append(feature)\n",
        "\n",
        "  for v in ['sedan', '4dr_suv', 'coupe', 'convertible', '4dr_hatchback']: \n",
        "    feature = 'is_style_%s' % v\n",
        "    df[feature] = (df['vehicle_style'] == v).astype(int) \n",
        "    features.append(feature)\n",
        "    \n",
        "  df_num = df[features]\n",
        "  df_num = df_num.fillna(0) \n",
        "  X = df_num.values\n",
        "  return X"
      ],
      "execution_count": 170,
      "outputs": []
    },
    {
      "cell_type": "code",
      "metadata": {
        "colab": {
          "base_uri": "https://localhost:8080/",
          "height": 409
        },
        "id": "fq59KXl8B71W",
        "outputId": "7f290c28-4f38-4598-ea97-50daa2b90396"
      },
      "source": [
        "X_train = prepare_X(df_train)\n",
        "w_0, w = linear_regression(X_train, y_train)\n",
        "\n",
        "X_val = prepare_X(df_val)\n",
        "y_pred = w_0 + X_val.dot(w) \n",
        "print('validation:', rmse(y_val, y_pred))"
      ],
      "execution_count": 171,
      "outputs": [
        {
          "output_type": "error",
          "ename": "LinAlgError",
          "evalue": "ignored",
          "traceback": [
            "\u001b[0;31m---------------------------------------------------------------------------\u001b[0m",
            "\u001b[0;31mLinAlgError\u001b[0m                               Traceback (most recent call last)",
            "\u001b[0;32m<ipython-input-171-5f0960f06f59>\u001b[0m in \u001b[0;36m<module>\u001b[0;34m()\u001b[0m\n\u001b[1;32m      1\u001b[0m \u001b[0mX_train\u001b[0m \u001b[0;34m=\u001b[0m \u001b[0mprepare_X\u001b[0m\u001b[0;34m(\u001b[0m\u001b[0mdf_train\u001b[0m\u001b[0;34m)\u001b[0m\u001b[0;34m\u001b[0m\u001b[0;34m\u001b[0m\u001b[0m\n\u001b[0;32m----> 2\u001b[0;31m \u001b[0mw_0\u001b[0m\u001b[0;34m,\u001b[0m \u001b[0mw\u001b[0m \u001b[0;34m=\u001b[0m \u001b[0mlinear_regression\u001b[0m\u001b[0;34m(\u001b[0m\u001b[0mX_train\u001b[0m\u001b[0;34m,\u001b[0m \u001b[0my_train\u001b[0m\u001b[0;34m)\u001b[0m\u001b[0;34m\u001b[0m\u001b[0;34m\u001b[0m\u001b[0m\n\u001b[0m\u001b[1;32m      3\u001b[0m \u001b[0;34m\u001b[0m\u001b[0m\n\u001b[1;32m      4\u001b[0m \u001b[0mX_val\u001b[0m \u001b[0;34m=\u001b[0m \u001b[0mprepare_X\u001b[0m\u001b[0;34m(\u001b[0m\u001b[0mdf_val\u001b[0m\u001b[0;34m)\u001b[0m\u001b[0;34m\u001b[0m\u001b[0;34m\u001b[0m\u001b[0m\n\u001b[1;32m      5\u001b[0m \u001b[0my_pred\u001b[0m \u001b[0;34m=\u001b[0m \u001b[0mw_0\u001b[0m \u001b[0;34m+\u001b[0m \u001b[0mX_val\u001b[0m\u001b[0;34m.\u001b[0m\u001b[0mdot\u001b[0m\u001b[0;34m(\u001b[0m\u001b[0mw\u001b[0m\u001b[0;34m)\u001b[0m\u001b[0;34m\u001b[0m\u001b[0;34m\u001b[0m\u001b[0m\n",
            "\u001b[0;32m<ipython-input-122-9ac4e93ca574>\u001b[0m in \u001b[0;36mlinear_regression\u001b[0;34m(X, y)\u001b[0m\n\u001b[1;32m      6\u001b[0m   \u001b[0;31m# normal equation\u001b[0m\u001b[0;34m\u001b[0m\u001b[0;34m\u001b[0m\u001b[0;34m\u001b[0m\u001b[0m\n\u001b[1;32m      7\u001b[0m   \u001b[0mXTX\u001b[0m \u001b[0;34m=\u001b[0m \u001b[0mX\u001b[0m\u001b[0;34m.\u001b[0m\u001b[0mT\u001b[0m\u001b[0;34m.\u001b[0m\u001b[0mdot\u001b[0m\u001b[0;34m(\u001b[0m\u001b[0mX\u001b[0m\u001b[0;34m)\u001b[0m\u001b[0;34m\u001b[0m\u001b[0;34m\u001b[0m\u001b[0m\n\u001b[0;32m----> 8\u001b[0;31m   \u001b[0mXTX_inv\u001b[0m \u001b[0;34m=\u001b[0m \u001b[0mnp\u001b[0m\u001b[0;34m.\u001b[0m\u001b[0mlinalg\u001b[0m\u001b[0;34m.\u001b[0m\u001b[0minv\u001b[0m\u001b[0;34m(\u001b[0m\u001b[0mXTX\u001b[0m\u001b[0;34m)\u001b[0m\u001b[0;34m\u001b[0m\u001b[0;34m\u001b[0m\u001b[0m\n\u001b[0m\u001b[1;32m      9\u001b[0m   \u001b[0mw\u001b[0m \u001b[0;34m=\u001b[0m \u001b[0mXTX_inv\u001b[0m\u001b[0;34m.\u001b[0m\u001b[0mdot\u001b[0m\u001b[0;34m(\u001b[0m\u001b[0mX\u001b[0m\u001b[0;34m.\u001b[0m\u001b[0mT\u001b[0m\u001b[0;34m)\u001b[0m\u001b[0;34m.\u001b[0m\u001b[0mdot\u001b[0m\u001b[0;34m(\u001b[0m\u001b[0my\u001b[0m\u001b[0;34m)\u001b[0m\u001b[0;34m\u001b[0m\u001b[0;34m\u001b[0m\u001b[0m\n\u001b[1;32m     10\u001b[0m   \u001b[0;32mreturn\u001b[0m \u001b[0mw\u001b[0m\u001b[0;34m[\u001b[0m\u001b[0;36m0\u001b[0m\u001b[0;34m]\u001b[0m\u001b[0;34m,\u001b[0m \u001b[0mw\u001b[0m\u001b[0;34m[\u001b[0m\u001b[0;36m1\u001b[0m\u001b[0;34m:\u001b[0m\u001b[0;34m]\u001b[0m\u001b[0;34m\u001b[0m\u001b[0;34m\u001b[0m\u001b[0m\n",
            "\u001b[0;32m<__array_function__ internals>\u001b[0m in \u001b[0;36minv\u001b[0;34m(*args, **kwargs)\u001b[0m\n",
            "\u001b[0;32m/usr/local/lib/python3.7/dist-packages/numpy/linalg/linalg.py\u001b[0m in \u001b[0;36minv\u001b[0;34m(a)\u001b[0m\n\u001b[1;32m    544\u001b[0m     \u001b[0msignature\u001b[0m \u001b[0;34m=\u001b[0m \u001b[0;34m'D->D'\u001b[0m \u001b[0;32mif\u001b[0m \u001b[0misComplexType\u001b[0m\u001b[0;34m(\u001b[0m\u001b[0mt\u001b[0m\u001b[0;34m)\u001b[0m \u001b[0;32melse\u001b[0m \u001b[0;34m'd->d'\u001b[0m\u001b[0;34m\u001b[0m\u001b[0;34m\u001b[0m\u001b[0m\n\u001b[1;32m    545\u001b[0m     \u001b[0mextobj\u001b[0m \u001b[0;34m=\u001b[0m \u001b[0mget_linalg_error_extobj\u001b[0m\u001b[0;34m(\u001b[0m\u001b[0m_raise_linalgerror_singular\u001b[0m\u001b[0;34m)\u001b[0m\u001b[0;34m\u001b[0m\u001b[0;34m\u001b[0m\u001b[0m\n\u001b[0;32m--> 546\u001b[0;31m     \u001b[0mainv\u001b[0m \u001b[0;34m=\u001b[0m \u001b[0m_umath_linalg\u001b[0m\u001b[0;34m.\u001b[0m\u001b[0minv\u001b[0m\u001b[0;34m(\u001b[0m\u001b[0ma\u001b[0m\u001b[0;34m,\u001b[0m \u001b[0msignature\u001b[0m\u001b[0;34m=\u001b[0m\u001b[0msignature\u001b[0m\u001b[0;34m,\u001b[0m \u001b[0mextobj\u001b[0m\u001b[0;34m=\u001b[0m\u001b[0mextobj\u001b[0m\u001b[0;34m)\u001b[0m\u001b[0;34m\u001b[0m\u001b[0;34m\u001b[0m\u001b[0m\n\u001b[0m\u001b[1;32m    547\u001b[0m     \u001b[0;32mreturn\u001b[0m \u001b[0mwrap\u001b[0m\u001b[0;34m(\u001b[0m\u001b[0mainv\u001b[0m\u001b[0;34m.\u001b[0m\u001b[0mastype\u001b[0m\u001b[0;34m(\u001b[0m\u001b[0mresult_t\u001b[0m\u001b[0;34m,\u001b[0m \u001b[0mcopy\u001b[0m\u001b[0;34m=\u001b[0m\u001b[0;32mFalse\u001b[0m\u001b[0;34m)\u001b[0m\u001b[0;34m)\u001b[0m\u001b[0;34m\u001b[0m\u001b[0;34m\u001b[0m\u001b[0m\n\u001b[1;32m    548\u001b[0m \u001b[0;34m\u001b[0m\u001b[0m\n",
            "\u001b[0;32m/usr/local/lib/python3.7/dist-packages/numpy/linalg/linalg.py\u001b[0m in \u001b[0;36m_raise_linalgerror_singular\u001b[0;34m(err, flag)\u001b[0m\n\u001b[1;32m     86\u001b[0m \u001b[0;34m\u001b[0m\u001b[0m\n\u001b[1;32m     87\u001b[0m \u001b[0;32mdef\u001b[0m \u001b[0m_raise_linalgerror_singular\u001b[0m\u001b[0;34m(\u001b[0m\u001b[0merr\u001b[0m\u001b[0;34m,\u001b[0m \u001b[0mflag\u001b[0m\u001b[0;34m)\u001b[0m\u001b[0;34m:\u001b[0m\u001b[0;34m\u001b[0m\u001b[0;34m\u001b[0m\u001b[0m\n\u001b[0;32m---> 88\u001b[0;31m     \u001b[0;32mraise\u001b[0m \u001b[0mLinAlgError\u001b[0m\u001b[0;34m(\u001b[0m\u001b[0;34m\"Singular matrix\"\u001b[0m\u001b[0;34m)\u001b[0m\u001b[0;34m\u001b[0m\u001b[0;34m\u001b[0m\u001b[0m\n\u001b[0m\u001b[1;32m     89\u001b[0m \u001b[0;34m\u001b[0m\u001b[0m\n\u001b[1;32m     90\u001b[0m \u001b[0;32mdef\u001b[0m \u001b[0m_raise_linalgerror_nonposdef\u001b[0m\u001b[0;34m(\u001b[0m\u001b[0merr\u001b[0m\u001b[0;34m,\u001b[0m \u001b[0mflag\u001b[0m\u001b[0;34m)\u001b[0m\u001b[0;34m:\u001b[0m\u001b[0;34m\u001b[0m\u001b[0;34m\u001b[0m\u001b[0m\n",
            "\u001b[0;31mLinAlgError\u001b[0m: Singular matrix"
          ]
        }
      ]
    },
    {
      "cell_type": "markdown",
      "metadata": {
        "id": "UrsjgSzXdKMU"
      },
      "source": [
        "#### **2.4.5** Regularization\n",
        "\n",
        "+ It is found that adding new features does not always help, and in our case, it made things a lot worse.The reason for this behavior is **numerical instability** <br>\n",
        "As w = [X.T.dot(X) ]^-1.(X.T).y\n",
        "+ The inversion is the issue in our case. Sometimes, when adding new columns to X, we can accidentally add a column that is a combination of other columns.\n",
        "+ It happened because we don’t typically have columns that are perfect linear combinations of other columns\n",
        "+ The real data is often noisy, with measurement errors (such as recording 1.3 instead of 13 for mpg), rounding errors (such as storing 0.0999999 instead of 0.1), and many other errors. \n",
        "+ In numerical linear algebra, such issues are called numerical instability issues, and they are typically **solved with regularization techniques**.\n",
        "\n",
        "<font color ='green'> The aim of regularization is to make sure that the inverse exists by forcing the matrix to be invertible.</font> <br>\n",
        "Regularization is an important concept : it means “controlling” — controlling the weights of the model so that they behave correctly and don’t grow too large, as in our case.<br><br>\n",
        "One way to do regularization is to add a small number to each diagonal element of the matrix. \n",
        "\n",
        "![image.png](data:image/png;base64,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)"
      ]
    },
    {
      "cell_type": "code",
      "metadata": {
        "id": "XTkHIthycsg9"
      },
      "source": [
        "## defining normal equation as above\n",
        "def linear_regression_reg(X,y,r=0.0):\n",
        "  ones = np.ones(X.shape[0])\n",
        "  X = np.column_stack([ones,X])\n",
        "\n",
        "  XTX = X.T.dot(X)\n",
        "  # r =0 means unregularized \n",
        "  reg = r* np.eye(XTX.shape[0])\n",
        "  XTX = XTX + reg \n",
        "  XTX_inv = np.linalg.inv(XTX)\n",
        "  w = XTX_inv.dot(X.T).dot(y)\n",
        "  return w[0],w[1:]\n"
      ],
      "execution_count": 165,
      "outputs": []
    },
    {
      "cell_type": "code",
      "metadata": {
        "colab": {
          "base_uri": "https://localhost:8080/"
        },
        "id": "EGOga0KxeWBO",
        "outputId": "bb549f50-b00d-4140-e774-ff78533eb6d1"
      },
      "source": [
        "#Let’s check what happens with our weights for different values of r:\n",
        "for r in [ 0.001, 0.01, 0.1, 1, 10]:\n",
        "  w_0, w = linear_regression_reg(X_train, y_train, r=r) \n",
        "  print('%5s, %.2f, %.2f' % (r, w_0, w[13]))"
      ],
      "execution_count": 169,
      "outputs": [
        {
          "output_type": "stream",
          "text": [
            "0.001, 10.66, -1.30\n",
            " 0.01, 10.63, -1.28\n",
            "  0.1, 10.40, -1.06\n",
            "    1, 9.00, 0.23\n",
            "   10, 6.88, 1.84\n"
          ],
          "name": "stdout"
        }
      ]
    },
    {
      "cell_type": "code",
      "metadata": {
        "colab": {
          "base_uri": "https://localhost:8080/"
        },
        "id": "Zut3M3EBgd1y",
        "outputId": "d4f7c2e5-8753-4b2b-ac35-0eb57c24911b"
      },
      "source": [
        "X_train = prepare_X(df_train)\n",
        "w_0, w = linear_regression_reg(X_train, y_train,r=0.001)\n",
        "\n",
        "X_val = prepare_X(df_val)\n",
        "y_pred = w_0 + X_val.dot(w) \n",
        "print('validation:', rmse(y_val, y_pred))"
      ],
      "execution_count": 172,
      "outputs": [
        {
          "output_type": "stream",
          "text": [
            "validation: 0.4620295899280206\n"
          ],
          "name": "stdout"
        }
      ]
    },
    {
      "cell_type": "markdown",
      "metadata": {
        "id": "4ciKJtfmhwFE"
      },
      "source": [
        "This result is an improvement over the previous score: 0.517.\n",
        "\n",
        "**NOTE**: Sometimes, when adding a new feature causes performance degradation, simply removing this feature may be enough to solve the problem. Having a validation dataset is important to decide whether to add regularization, remove the feature, or do both: we use the score on the validation data to choose the best option."
      ]
    },
    {
      "cell_type": "code",
      "metadata": {
        "colab": {
          "base_uri": "https://localhost:8080/"
        },
        "id": "S3zeatkvhmLr",
        "outputId": "3b74b963-bd46-430e-d390-b451b3a3d05e"
      },
      "source": [
        "## run a grid search to select the best parameter r:\n",
        "X_train = prepare_X(df_train)\n",
        "X_val = prepare_X(df_val)\n",
        "\n",
        "for r in [0.000001, 0.0001, 0.001, 0.01, 0.1, 1, 5, 10]: \n",
        "  w_0, w = linear_regression_reg(X_train, y_train, r=r) \n",
        "  y_pred = w_0 + X_val.dot(w)\n",
        "  print('%6s' %r, rmse(y_val, y_pred))"
      ],
      "execution_count": 173,
      "outputs": [
        {
          "output_type": "stream",
          "text": [
            " 1e-06 0.46202820041894105\n",
            "0.0001 0.4620284194712546\n",
            " 0.001 0.4620295899280206\n",
            "  0.01 0.4620413352902923\n",
            "   0.1 0.4621620495157536\n",
            "     1 0.46352621855653553\n",
            "     5 0.46973183198498675\n",
            "    10 0.47663797354590093\n"
          ],
          "name": "stdout"
        }
      ]
    },
    {
      "cell_type": "markdown",
      "metadata": {
        "id": "IhoebxxyiTI5"
      },
      "source": [
        "We also notice that the performance for values below 0.1 don’t change much except in the sixth digit, which we shouldn’t consider to be significant.\n",
        "<br><br>\n",
        "Let’s take the model with r=0.01 as the final model and check against test set."
      ]
    },
    {
      "cell_type": "code",
      "metadata": {
        "colab": {
          "base_uri": "https://localhost:8080/"
        },
        "id": "q3j2oadDiJiV",
        "outputId": "0365e0bf-4fdb-4c7f-c88c-d57e9e058787"
      },
      "source": [
        "X_train = prepare_X(df_train)\n",
        "w_0, w = linear_regression_reg(X_train, y_train,r=0.01)\n",
        "\n",
        "X_val = prepare_X(df_val)\n",
        "y_pred = w_0 + X_val.dot(w) \n",
        "print('validation:', rmse(y_val, y_pred))\n",
        "\n",
        "X_test = prepare_X(df_test)\n",
        "y_pred = w_0 + X_test.dot(w) \n",
        "print('test:', rmse(y_test, y_pred))\n"
      ],
      "execution_count": 175,
      "outputs": [
        {
          "output_type": "stream",
          "text": [
            "validation: 0.4620413352902923\n",
            "test: 0.45973038326005505\n"
          ],
          "name": "stdout"
        }
      ]
    },
    {
      "cell_type": "markdown",
      "metadata": {
        "id": "TF-pdgMRix-t"
      },
      "source": [
        "Because these two numbers are pretty close, we conclude that the model can generalize well to the new unseen data.\n",
        "\n",
        "As we now have a model, we can start using it for predicting the price of a car. <br>\n",
        "Suppose that a user posts the following ad on the website:<br>\n",
        "ad = {\n",
        "'city_mpg': 18,\n",
        "'driven_wheels': 'all_wheel_drive', 'engine_cylinders': 6.0, 'engine_fuel_type': 'regular_unleaded', 'engine_hp': 268.0,\n",
        "'highway_mpg': 25,\n",
        "'make': 'toyota',\n",
        "'market_category': 'crossover,performance', 'model': 'venza',\n",
        "'number_of_doors': 4.0,\n",
        "'popularity': 2031,\n",
        "'transmission_type': 'automatic', 'vehicle_size': 'midsize',\n",
        "'vehicle_style': 'wagon',\n",
        "'year': 2013\n",
        "}\n",
        "\n",
        "We suggest the price for this car and so use our model"
      ]
    },
    {
      "cell_type": "code",
      "metadata": {
        "id": "YqRCkDySipA0"
      },
      "source": [
        "ad = {\n",
        "    'city_mpg': 18,\n",
        "'driven_wheels': 'all_wheel_drive', 'engine_cylinders': 6.0, 'engine_fuel_type': 'regular_unleaded', 'engine_hp': 268.0,\n",
        "'highway_mpg': 25,\n",
        "'make': 'toyota',\n",
        "'market_category': 'crossover,performance', 'model': 'venza',\n",
        "'number_of_doors': 4.0,\n",
        "'popularity': 2031,\n",
        "'transmission_type': 'automatic', 'vehicle_size': 'midsize',\n",
        "'vehicle_style': 'wagon',\n",
        "'year': 2013\n",
        "}"
      ],
      "execution_count": 176,
      "outputs": []
    },
    {
      "cell_type": "code",
      "metadata": {
        "colab": {
          "base_uri": "https://localhost:8080/"
        },
        "id": "70G6Px9BjZrr",
        "outputId": "77be1bf4-86c6-40ad-836b-37b77b22898a"
      },
      "source": [
        "df_test = pd.DataFrame([ad])\n",
        "X_test = prepare_X(df_test)\n",
        "X_test"
      ],
      "execution_count": 177,
      "outputs": [
        {
          "output_type": "execute_result",
          "data": {
            "text/plain": [
              "array([[2.680e+02, 6.000e+00, 2.500e+01, 1.800e+01, 2.031e+03, 4.000e+00,\n",
              "        0.000e+00, 0.000e+00, 0.000e+00, 0.000e+00, 0.000e+00, 0.000e+00,\n",
              "        0.000e+00, 1.000e+00, 1.000e+00, 0.000e+00, 0.000e+00, 0.000e+00,\n",
              "        1.000e+00, 0.000e+00, 0.000e+00, 0.000e+00, 0.000e+00, 1.000e+00,\n",
              "        0.000e+00, 0.000e+00, 0.000e+00, 0.000e+00, 0.000e+00, 0.000e+00,\n",
              "        0.000e+00, 1.000e+00, 0.000e+00, 0.000e+00, 0.000e+00, 0.000e+00,\n",
              "        0.000e+00, 0.000e+00]])"
            ]
          },
          "metadata": {
            "tags": []
          },
          "execution_count": 177
        }
      ]
    },
    {
      "cell_type": "code",
      "metadata": {
        "colab": {
          "base_uri": "https://localhost:8080/"
        },
        "id": "A7Em1P2ujhB8",
        "outputId": "aa158ed5-af8d-4140-8657-4f9d3b13380e"
      },
      "source": [
        "y_pred = w_0 + X_test.dot(w)\n",
        "y_pred"
      ],
      "execution_count": 179,
      "outputs": [
        {
          "output_type": "execute_result",
          "data": {
            "text/plain": [
              "array([10.36471506])"
            ]
          },
          "metadata": {
            "tags": []
          },
          "execution_count": 179
        }
      ]
    },
    {
      "cell_type": "code",
      "metadata": {
        "colab": {
          "base_uri": "https://localhost:8080/"
        },
        "id": "AJH8YM7hjkqg",
        "outputId": "3d7b6b23-5740-438f-8e6c-336a37606ab3"
      },
      "source": [
        "## This prediction is not the final price, however; it's the logarithm of the price. \n",
        "## To get the actual price, we need to undo the logarithm and apply the exponent function:\n",
        "\n",
        "suggestion = np.expm1(y_pred) \n",
        "suggestion"
      ],
      "execution_count": 180,
      "outputs": [
        {
          "output_type": "execute_result",
          "data": {
            "text/plain": [
              "array([31719.39267606])"
            ]
          },
          "metadata": {
            "tags": []
          },
          "execution_count": 180
        }
      ]
    },
    {
      "cell_type": "code",
      "metadata": {
        "id": "DTF4Pk9bjtzZ"
      },
      "source": [
        ""
      ],
      "execution_count": null,
      "outputs": []
    }
  ]
}